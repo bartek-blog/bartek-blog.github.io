{
 "cells": [
  {
   "cell_type": "markdown",
   "metadata": {},
   "source": [
    "# How to install pytorch with conda\n",
    "\n",
    "Here we will explain how to install pytorch with conda."
   ]
  },
  {
   "cell_type": "markdown",
   "metadata": {},
   "source": [
    "## Downloading\n",
    "\n",
    "In terminal execute the following line:\n",
    "\n",
    "```\n",
    "wget https://repo.continuum.io/miniconda/Miniconda3-3.7.0-MacOSX-x86_64.sh\\\n",
    "    -O ~/miniconda.sh\n",
    "bash ~/miniconda.sh -b -p $HOME/miniconda\n",
    "```\n",
    "\n",
    "You can get choose new or right version for your system following <https://conda.io/docs/user-guide/install/index.html>. Just change the string: `Miniconda3-3.7.0-MacOSX-x86_64`."
   ]
  },
  {
   "cell_type": "markdown",
   "metadata": {},
   "source": [
    "## Adding conda to PATH\n",
    "\n",
    "Then add `conda` to `$PATH` by running\n",
    "\n",
    "```\n",
    "export PATH=\"$HOME/miniconda/bin:$PATH\"\n",
    "```\n",
    "If you do not want to run it each time you start the system you can add this line to `.bash_profile` (or `.bashrc`)."
   ]
  },
  {
   "cell_type": "markdown",
   "metadata": {},
   "source": [
    "## Update it\n",
    "\n",
    "```\n",
    "conda update conda\n",
    "```"
   ]
  },
  {
   "cell_type": "markdown",
   "metadata": {},
   "source": [
    "## Creating environment \n",
    "\n",
    "\n",
    "```\n",
    "conda create -n conda3.6 python=3.6\n",
    "source activate conda3.6\n",
    "```\n",
    "\n",
    "You can deactivate it with `source deactive`. More info on <https://conda.io/docs/user-guide/tasks/manage-environments.html>"
   ]
  },
  {
   "cell_type": "markdown",
   "metadata": {},
   "source": [
    "## Installing programs needed\n",
    "\n",
    "```\n",
    "conda install mkl\n",
    "conda install numpy pandas jupyter ipython scikit-learn pytorch plotly\n",
    "conda install -c conda-forge matplotlib opencv\n",
    "```"
   ]
  },
  {
   "cell_type": "markdown",
   "metadata": {},
   "source": [
    "## Run jupyter\n",
    "\n",
    "After activating environment run\n",
    "\n",
    "```\n",
    "jupyter notebook\n",
    "```"
   ]
  },
  {
   "cell_type": "markdown",
   "metadata": {},
   "source": [
    "## Test it\n",
    "\n",
    "In the following change `img/shelf.JPG` to any image of your coice."
   ]
  },
  {
   "cell_type": "code",
   "execution_count": null,
   "metadata": {},
   "outputs": [],
   "source": [
    "import numpy as np\n",
    "import torch\n",
    "import torch.nn as nn\n",
    "import torch.nn.functional as F\n",
    "import matplotlib.pyplot as plt\n",
    "%matplotlib inline\n",
    "import cv2\n",
    "\n",
    "bgr_img = cv2.imread('img/shelf.JPG')\n",
    "gray_img = cv2.cvtColor(bgr_img, cv2.COLOR_BGR2GRAY).astype(\"float32\")/255\n",
    "\n",
    "#plt.imshow(gray_img, cmap='gray')\n",
    "#plt.show()"
   ]
  },
  {
   "cell_type": "code",
   "execution_count": null,
   "metadata": {},
   "outputs": [],
   "source": [
    "import numpy as np\n",
    "import torch\n",
    "import torch.nn as nn\n",
    "import torch.nn.functional as F"
   ]
  }
 ],
 "metadata": {
  "kernelspec": {
   "display_name": "Python 3",
   "language": "python",
   "name": "python3"
  },
  "language_info": {
   "codemirror_mode": {
    "name": "ipython",
    "version": 3
   },
   "file_extension": ".py",
   "mimetype": "text/x-python",
   "name": "python",
   "nbconvert_exporter": "python",
   "pygments_lexer": "ipython3",
   "version": "3.6.4"
  }
 },
 "nbformat": 4,
 "nbformat_minor": 2
}
