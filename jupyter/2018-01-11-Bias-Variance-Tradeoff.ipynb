{
 "cells": [
  {
   "cell_type": "raw",
   "metadata": {},
   "source": [
    "---\n",
    "layout: post\n",
    "comments: true\n",
    "title:  \"Bias–Variance Tradeoff\"\n",
    "date:   2019-01-11 18:00:00 +0200\n",
    "categories: ml python sklearn\n",
    "---"
   ]
  },
  {
   "cell_type": "markdown",
   "metadata": {},
   "source": [
    "In this note we would like to explain two concepts.\n",
    "* What is Bias–Variance Tradeoff\n",
    "* What __Polinomial Regression__ is. \n",
    "\n",
    "## Diabetes dataset"
   ]
  },
  {
   "cell_type": "code",
   "execution_count": 30,
   "metadata": {},
   "outputs": [],
   "source": [
    "import matplotlib.pyplot as plt\n",
    "import numpy as np\n",
    "import pandas as pd\n",
    "from sklearn import datasets\n",
    "\n",
    "diabetes = datasets.load_diabetes()"
   ]
  },
  {
   "cell_type": "code",
   "execution_count": 35,
   "metadata": {},
   "outputs": [],
   "source": [
    "MAX_DEG = 20\n",
    "X = np.concatenate([diabetes.data[:, [2]]**i for i in range(1, MAX_DEG+1)], axis=1)\n",
    "y = diabetes.target"
   ]
  },
  {
   "cell_type": "code",
   "execution_count": 36,
   "metadata": {},
   "outputs": [],
   "source": [
    "from sklearn.model_selection import train_test_split\n",
    "X_train, X_test, y_train, y_test = train_test_split(X, y, random_state=666, test_size=0.1)"
   ]
  },
  {
   "cell_type": "code",
   "execution_count": 37,
   "metadata": {},
   "outputs": [
    {
     "data": {
      "text/html": [
       "<div>\n",
       "<style scoped>\n",
       "    .dataframe tbody tr th:only-of-type {\n",
       "        vertical-align: middle;\n",
       "    }\n",
       "\n",
       "    .dataframe tbody tr th {\n",
       "        vertical-align: top;\n",
       "    }\n",
       "\n",
       "    .dataframe thead th {\n",
       "        text-align: right;\n",
       "    }\n",
       "</style>\n",
       "<table border=\"1\" class=\"dataframe\">\n",
       "  <thead>\n",
       "    <tr style=\"text-align: right;\">\n",
       "      <th></th>\n",
       "      <th>deg</th>\n",
       "      <th>MSE_train</th>\n",
       "      <th>MSE_test</th>\n",
       "    </tr>\n",
       "  </thead>\n",
       "  <tbody>\n",
       "    <tr>\n",
       "      <th>0</th>\n",
       "      <td>1</td>\n",
       "      <td>3977.857604</td>\n",
       "      <td>3119.609170</td>\n",
       "    </tr>\n",
       "    <tr>\n",
       "      <th>1</th>\n",
       "      <td>2</td>\n",
       "      <td>3977.640097</td>\n",
       "      <td>3115.818528</td>\n",
       "    </tr>\n",
       "    <tr>\n",
       "      <th>2</th>\n",
       "      <td>3</td>\n",
       "      <td>3971.426037</td>\n",
       "      <td>3107.879157</td>\n",
       "    </tr>\n",
       "    <tr>\n",
       "      <th>3</th>\n",
       "      <td>4</td>\n",
       "      <td>3965.465550</td>\n",
       "      <td>3138.183368</td>\n",
       "    </tr>\n",
       "    <tr>\n",
       "      <th>4</th>\n",
       "      <td>5</td>\n",
       "      <td>3934.569094</td>\n",
       "      <td>3196.018431</td>\n",
       "    </tr>\n",
       "    <tr>\n",
       "      <th>5</th>\n",
       "      <td>6</td>\n",
       "      <td>3913.773925</td>\n",
       "      <td>3228.384851</td>\n",
       "    </tr>\n",
       "    <tr>\n",
       "      <th>6</th>\n",
       "      <td>7</td>\n",
       "      <td>3906.374621</td>\n",
       "      <td>3263.682310</td>\n",
       "    </tr>\n",
       "    <tr>\n",
       "      <th>7</th>\n",
       "      <td>8</td>\n",
       "      <td>3900.895045</td>\n",
       "      <td>3257.609228</td>\n",
       "    </tr>\n",
       "    <tr>\n",
       "      <th>8</th>\n",
       "      <td>9</td>\n",
       "      <td>3869.394477</td>\n",
       "      <td>3282.880429</td>\n",
       "    </tr>\n",
       "    <tr>\n",
       "      <th>9</th>\n",
       "      <td>10</td>\n",
       "      <td>3854.682275</td>\n",
       "      <td>3289.644128</td>\n",
       "    </tr>\n",
       "    <tr>\n",
       "      <th>10</th>\n",
       "      <td>11</td>\n",
       "      <td>3854.581404</td>\n",
       "      <td>3288.149739</td>\n",
       "    </tr>\n",
       "    <tr>\n",
       "      <th>11</th>\n",
       "      <td>12</td>\n",
       "      <td>3854.448187</td>\n",
       "      <td>3285.661695</td>\n",
       "    </tr>\n",
       "    <tr>\n",
       "      <th>12</th>\n",
       "      <td>13</td>\n",
       "      <td>3844.741462</td>\n",
       "      <td>3283.165984</td>\n",
       "    </tr>\n",
       "    <tr>\n",
       "      <th>13</th>\n",
       "      <td>14</td>\n",
       "      <td>3831.729003</td>\n",
       "      <td>3280.421984</td>\n",
       "    </tr>\n",
       "    <tr>\n",
       "      <th>14</th>\n",
       "      <td>15</td>\n",
       "      <td>3831.849381</td>\n",
       "      <td>3280.775298</td>\n",
       "    </tr>\n",
       "    <tr>\n",
       "      <th>15</th>\n",
       "      <td>16</td>\n",
       "      <td>3831.879710</td>\n",
       "      <td>3280.850791</td>\n",
       "    </tr>\n",
       "    <tr>\n",
       "      <th>16</th>\n",
       "      <td>17</td>\n",
       "      <td>3831.883837</td>\n",
       "      <td>3280.860747</td>\n",
       "    </tr>\n",
       "    <tr>\n",
       "      <th>17</th>\n",
       "      <td>18</td>\n",
       "      <td>3831.884236</td>\n",
       "      <td>3280.861685</td>\n",
       "    </tr>\n",
       "    <tr>\n",
       "      <th>18</th>\n",
       "      <td>19</td>\n",
       "      <td>3831.884266</td>\n",
       "      <td>3280.861754</td>\n",
       "    </tr>\n",
       "    <tr>\n",
       "      <th>19</th>\n",
       "      <td>20</td>\n",
       "      <td>3831.884268</td>\n",
       "      <td>3280.861758</td>\n",
       "    </tr>\n",
       "  </tbody>\n",
       "</table>\n",
       "</div>"
      ],
      "text/plain": [
       "   deg    MSE_train     MSE_test\n",
       "0    1  3977.857604  3119.609170\n",
       "1    2  3977.640097  3115.818528\n",
       "2    3  3971.426037  3107.879157\n",
       "3    4  3965.465550  3138.183368\n",
       "4    5  3934.569094  3196.018431\n",
       "5    6  3913.773925  3228.384851\n",
       "6    7  3906.374621  3263.682310\n",
       "7    8  3900.895045  3257.609228\n",
       "8    9  3869.394477  3282.880429\n",
       "9   10  3854.682275  3289.644128\n",
       "10  11  3854.581404  3288.149739\n",
       "11  12  3854.448187  3285.661695\n",
       "12  13  3844.741462  3283.165984\n",
       "13  14  3831.729003  3280.421984\n",
       "14  15  3831.849381  3280.775298\n",
       "15  16  3831.879710  3280.850791\n",
       "16  17  3831.883837  3280.860747\n",
       "17  18  3831.884236  3280.861685\n",
       "18  19  3831.884266  3280.861754\n",
       "19  20  3831.884268  3280.861758"
      ]
     },
     "execution_count": 37,
     "metadata": {},
     "output_type": "execute_result"
    }
   ],
   "source": [
    "from sklearn.metrics import mean_squared_error\n",
    "\n",
    "def fit_and_evaluate(columns, X_train, X_test, y_test):\n",
    "    reg.fit(X_train[:, columns], y_train)\n",
    "    y_train_hat = reg.predict(X_train[:, columns])\n",
    "    y_test_hat = reg.predict(X_test[:, columns])\n",
    "    return mean_squared_error(y_train, y_train_hat), mean_squared_error(y_test, y_test_hat)\n",
    "\n",
    "from sklearn.linear_model import LinearRegression\n",
    "reg = LinearRegression()\n",
    "performance = pd.DataFrame(\n",
    "        columns=[\"deg\", \"MSE_train\", \"MSE_test\"]\n",
    "    )\n",
    "\n",
    "for i in range(1, MAX_DEG+1):\n",
    "    mses = fit_and_evaluate(list(range(i)), X_train, X_test, y_test)\n",
    "    new_row = pd.DataFrame({\n",
    "        \"deg\": [i], \n",
    "        \"MSE_train\": [mses[0]],\n",
    "        \"MSE_test\": [mses[1]]\n",
    "    })\n",
    "    performance = performance.append(new_row, ignore_index = True)  \n",
    "performance"
   ]
  },
  {
   "cell_type": "code",
   "execution_count": 38,
   "metadata": {},
   "outputs": [
    {
     "data": {
      "text/plain": [
       "<matplotlib.collections.PathCollection at 0x10828f320>"
      ]
     },
     "execution_count": 38,
     "metadata": {},
     "output_type": "execute_result"
    },
    {
     "data": {
      "image/png": "[encoded data removed]",
      "text/plain": [
       "<matplotlib.figure.Figure at 0x128c6d908>"
      ]
     },
     "metadata": {},
     "output_type": "display_data"
    }
   ],
   "source": [
    "plt.scatter(performance[\"deg\"], performance[\"MSE_train\"], alpha = 0.3)\n",
    "plt.scatter(performance[\"deg\"], performance[\"MSE_test\"], alpha = 0.3)"
   ]
  },
  {
   "cell_type": "code",
   "execution_count": null,
   "metadata": {},
   "outputs": [],
   "source": []
  },
  {
   "cell_type": "markdown",
   "metadata": {},
   "source": [
    "## Problem\n",
    "\n",
    "__Main Question__ Which model is better?\n",
    "1. Model that predict disease progression based on body mass.\n",
    "2. Model that predict disease progression based on all 10 features.\n",
    "\n",
    "We will answer this question doing the following steps.\n",
    "1. Prepare data.\n",
    "2. Split data into train and test.\n",
    "3. Build a models and further data preparation for each model.\n",
    "4. Fit models to train data on selected columns.\n",
    "5. Evaluate models on test data and compare performance."
   ]
  },
  {
   "cell_type": "markdown",
   "metadata": {},
   "source": [
    "#### 1. Prepare data\n",
    "\n",
    "Since the second model uses all columns our $X$ is simply entire dataset. When we will train model we will do further data selection."
   ]
  },
  {
   "cell_type": "code",
   "execution_count": 2,
   "metadata": {},
   "outputs": [],
   "source": [
    "X = diabetes.data\n",
    "y = diabetes.target"
   ]
  },
  {
   "cell_type": "markdown",
   "metadata": {},
   "source": [
    "#### 2. Split data into train and test."
   ]
  },
  {
   "cell_type": "code",
   "execution_count": 3,
   "metadata": {},
   "outputs": [],
   "source": [
    "from sklearn.model_selection import train_test_split\n",
    "X_train, X_test, y_train, y_test = train_test_split(X, y, random_state=666, test_size=0.1)"
   ]
  },
  {
   "cell_type": "markdown",
   "metadata": {},
   "source": [
    "#### 3. Build a models"
   ]
  },
  {
   "cell_type": "code",
   "execution_count": 4,
   "metadata": {},
   "outputs": [],
   "source": [
    "from sklearn.linear_model import LinearRegression\n",
    "reg1 = LinearRegression()\n",
    "reg2 = LinearRegression()"
   ]
  },
  {
   "cell_type": "markdown",
   "metadata": {},
   "source": [
    "#### 4. Fit models to train data on selected columns."
   ]
  },
  {
   "cell_type": "code",
   "execution_count": 5,
   "metadata": {},
   "outputs": [
    {
     "data": {
      "text/plain": [
       "LinearRegression(copy_X=True, fit_intercept=True, n_jobs=1, normalize=False)"
      ]
     },
     "execution_count": 5,
     "metadata": {},
     "output_type": "execute_result"
    }
   ],
   "source": [
    "reg1.fit(X_train[:, [2]], y_train) # here we choose only second column\n",
    "reg2.fit(X_train, y_train)"
   ]
  },
  {
   "cell_type": "markdown",
   "metadata": {},
   "source": [
    "#### 5. Evaluate models on test data and compare performance."
   ]
  },
  {
   "cell_type": "code",
   "execution_count": 6,
   "metadata": {},
   "outputs": [
    {
     "data": {
      "text/plain": [
       "(55.85346157514181, 47.61322195051475)"
      ]
     },
     "execution_count": 6,
     "metadata": {},
     "output_type": "execute_result"
    }
   ],
   "source": [
    "from sklearn.metrics import mean_squared_error, r2_score\n",
    "y_test_hat1 = reg1.predict(X_test[:, [2]])\n",
    "y_test_hat2 = reg2.predict(X_test)\n",
    "np.sqrt(mean_squared_error(y_test, y_test_hat1)), np.sqrt(mean_squared_error(y_test, y_test_hat2))"
   ]
  },
  {
   "cell_type": "markdown",
   "metadata": {},
   "source": [
    "## All possible combinations of columns"
   ]
  },
  {
   "cell_type": "code",
   "execution_count": 7,
   "metadata": {},
   "outputs": [],
   "source": [
    "from itertools import combinations\n",
    "\n",
    "X = diabetes.data\n",
    "y = diabetes.target\n",
    "X_train, X_test, y_train, y_test = train_test_split(X, y, random_state=666, test_size=0.2)\n",
    "reg = LinearRegression()\n",
    "\n",
    "def fit_and_evaluate(columns, X_train, X_test, y_test):\n",
    "    reg.fit(X_train[:, columns], y_train)\n",
    "    y_test_hat = reg.predict(X_test[:, columns])\n",
    "    return np.sqrt(mean_squared_error(y_test, y_test_hat))\n",
    "\n",
    "def get_performance_on_combinations_of_columns(X_train, X_test, y_test):\n",
    "    all_columns_num = X_train.shape[1]\n",
    "    all_colnames = list(range(all_columns_num))\n",
    "\n",
    "    performance = pd.DataFrame(\n",
    "        columns=[\"n_columns\", \"columns\", \"RMSE\"]\n",
    "    )\n",
    "\n",
    "    for columns_num in range(1, all_columns_num + 1):\n",
    "        for columns in combinations(all_colnames, columns_num):\n",
    "            rmse = fit_and_evaluate(columns, X_train, X_test, y_test)\n",
    "            new_row = pd.DataFrame({\n",
    "                \"n_columns\": [columns_num], \n",
    "                \"columns\": [columns], \n",
    "                \"RMSE\": [rmse]\n",
    "            })\n",
    "            performance = performance.append(new_row, ignore_index = True)  \n",
    "    return performance"
   ]
  },
  {
   "cell_type": "code",
   "execution_count": 8,
   "metadata": {},
   "outputs": [
    {
     "name": "stdout",
     "output_type": "stream",
     "text": [
      "Total number of non-empty combination is 1023.\n"
     ]
    }
   ],
   "source": [
    "performance = get_performance_on_combinations_of_columns(X_train, X_test, y_test) \n",
    "        \n",
    "print(\"Total number of non-empty combination is {}.\".format(len(performance)))"
   ]
  },
  {
   "cell_type": "code",
   "execution_count": 9,
   "metadata": {},
   "outputs": [
    {
     "data": {
      "text/plain": [
       "<matplotlib.collections.PathCollection at 0x12155ca58>"
      ]
     },
     "execution_count": 9,
     "metadata": {},
     "output_type": "execute_result"
    },
    {
     "data": {
      "image/png": "[encoded data removed]",
      "text/plain": [
       "<matplotlib.figure.Figure at 0x11d4b02b0>"
      ]
     },
     "metadata": {},
     "output_type": "display_data"
    }
   ],
   "source": [
    "plt.scatter(performance[\"n_columns\"], performance[\"RMSE\"], alpha = 0.3)"
   ]
  },
  {
   "cell_type": "code",
   "execution_count": 10,
   "metadata": {},
   "outputs": [
    {
     "data": {
      "text/html": [
       "<div>\n",
       "<style scoped>\n",
       "    .dataframe tbody tr th:only-of-type {\n",
       "        vertical-align: middle;\n",
       "    }\n",
       "\n",
       "    .dataframe tbody tr th {\n",
       "        vertical-align: top;\n",
       "    }\n",
       "\n",
       "    .dataframe thead th {\n",
       "        text-align: right;\n",
       "    }\n",
       "</style>\n",
       "<table border=\"1\" class=\"dataframe\">\n",
       "  <thead>\n",
       "    <tr style=\"text-align: right;\">\n",
       "      <th></th>\n",
       "      <th>n_columns</th>\n",
       "      <th>columns</th>\n",
       "      <th>RMSE</th>\n",
       "    </tr>\n",
       "  </thead>\n",
       "  <tbody>\n",
       "    <tr>\n",
       "      <th>781</th>\n",
       "      <td>6</td>\n",
       "      <td>(1, 2, 3, 6, 8, 9)</td>\n",
       "      <td>47.880858</td>\n",
       "    </tr>\n",
       "    <tr>\n",
       "      <th>865</th>\n",
       "      <td>7</td>\n",
       "      <td>(0, 1, 2, 3, 6, 8, 9)</td>\n",
       "      <td>47.889001</td>\n",
       "    </tr>\n",
       "    <tr>\n",
       "      <th>521</th>\n",
       "      <td>5</td>\n",
       "      <td>(1, 2, 3, 6, 8)</td>\n",
       "      <td>48.020136</td>\n",
       "    </tr>\n",
       "    <tr>\n",
       "      <th>647</th>\n",
       "      <td>6</td>\n",
       "      <td>(0, 1, 2, 3, 6, 8)</td>\n",
       "      <td>48.038394</td>\n",
       "    </tr>\n",
       "    <tr>\n",
       "      <th>981</th>\n",
       "      <td>8</td>\n",
       "      <td>(0, 1, 2, 3, 6, 7, 8, 9)</td>\n",
       "      <td>48.210301</td>\n",
       "    </tr>\n",
       "  </tbody>\n",
       "</table>\n",
       "</div>"
      ],
      "text/plain": [
       "    n_columns                   columns       RMSE\n",
       "781         6        (1, 2, 3, 6, 8, 9)  47.880858\n",
       "865         7     (0, 1, 2, 3, 6, 8, 9)  47.889001\n",
       "521         5           (1, 2, 3, 6, 8)  48.020136\n",
       "647         6        (0, 1, 2, 3, 6, 8)  48.038394\n",
       "981         8  (0, 1, 2, 3, 6, 7, 8, 9)  48.210301"
      ]
     },
     "execution_count": 10,
     "metadata": {},
     "output_type": "execute_result"
    }
   ],
   "source": [
    "performance.sort_values(\"RMSE\").head()"
   ]
  },
  {
   "cell_type": "markdown",
   "metadata": {},
   "source": [
    "So the best choice of columns are columns: `(1, 2, 3, 6, 8, 9)`. Let's see what they are."
   ]
  },
  {
   "cell_type": "code",
   "execution_count": 11,
   "metadata": {},
   "outputs": [
    {
     "data": {
      "text/plain": [
       "['sex', 'bmi', 'bp', 's3', 's5', 's6']"
      ]
     },
     "execution_count": 11,
     "metadata": {},
     "output_type": "execute_result"
    }
   ],
   "source": [
    "[diabetes.feature_names[i] for i in [1, 2, 3, 6, 8, 9]]"
   ]
  },
  {
   "cell_type": "code",
   "execution_count": 12,
   "metadata": {},
   "outputs": [
    {
     "data": {
      "text/plain": [
       "<matplotlib.collections.PathCollection at 0x12162cbe0>"
      ]
     },
     "execution_count": 12,
     "metadata": {},
     "output_type": "execute_result"
    },
    {
     "data": {
      "image/png": "[encoded data removed]",
      "text/plain": [
       "<matplotlib.figure.Figure at 0x11cf55fd0>"
      ]
     },
     "metadata": {},
     "output_type": "display_data"
    }
   ],
   "source": [
    "best_reg = LinearRegression()\n",
    "best_reg.fit(X_train[:, (1, 2, 3, 6, 8, 9)], y_train)\n",
    "y_test_hat = best_reg.predict(X_test[:, (1, 2, 3, 6, 8, 9)])\n",
    "plt.scatter(y_test, y_test-y_test_hat, alpha = 0.3)"
   ]
  },
  {
   "cell_type": "code",
   "execution_count": 13,
   "metadata": {},
   "outputs": [
    {
     "data": {
      "text/plain": [
       "array([-225.78647725,  533.21599131,  319.5160069 , -293.65810211,\n",
       "        491.19212091,   35.45789137])"
      ]
     },
     "execution_count": 13,
     "metadata": {},
     "output_type": "execute_result"
    }
   ],
   "source": [
    "best_reg.coef_"
   ]
  },
  {
   "cell_type": "markdown",
   "metadata": {},
   "source": [
    "## Hyperparameters and train-dev-test split\n",
    "\n",
    "Let us recall that by __parameters__ we understand coeficients of our model. In the case of our best model we have 7 parameters:\n",
    "\n",
    "$$\\hat{y} = a_1x_1 + a_2x_3 + a_3x_3 + a_6x_6 + a_8x_8 + a_9x_9 + b$$\n",
    "\n",
    "where $a_1, a_2, a_3, a_6, a_8, a_9$ are"
   ]
  },
  {
   "cell_type": "code",
   "execution_count": 14,
   "metadata": {},
   "outputs": [
    {
     "data": {
      "text/plain": [
       "array([-225.78647725,  533.21599131,  319.5160069 , -293.65810211,\n",
       "        491.19212091,   35.45789137])"
      ]
     },
     "execution_count": 14,
     "metadata": {},
     "output_type": "execute_result"
    }
   ],
   "source": [
    "best_reg.coef_"
   ]
  },
  {
   "cell_type": "markdown",
   "metadata": {},
   "source": [
    "and $b$ (called also bias) is"
   ]
  },
  {
   "cell_type": "code",
   "execution_count": 15,
   "metadata": {},
   "outputs": [
    {
     "data": {
      "text/plain": [
       "153.00353416418773"
      ]
     },
     "execution_count": 15,
     "metadata": {},
     "output_type": "execute_result"
    }
   ],
   "source": [
    "best_reg.intercept_"
   ]
  },
  {
   "cell_type": "markdown",
   "metadata": {},
   "source": [
    "However, as we have said before we have also another kind of parameters that are actully our choice of colums. Those are called __hyperparameters__. In order to find them we have also done some fitting. We have taken 1023 combinations and see which one has performed best on our test dataset. This is not very scientific, since we use this set to report final performance of our fitted model. Therefore we introduce further spliting of train set into validation set. \n",
    "\n",
    "\n",
    "1. Prepare data. \n",
    "2. Split data into train,  dev and test.\n",
    "3. Build models, fit them to train dataset and evaluate on dev dataset.\n",
    "4. Choose the hyperparameters of the model that performs best on dev.\n",
    "5. Build and fit the model with these hyperparameters to both train and dev datasets.\n",
    "5. Evaluate the best model performance of test."
   ]
  },
  {
   "cell_type": "code",
   "execution_count": 16,
   "metadata": {},
   "outputs": [],
   "source": [
    "# 1. Prepare data.\n",
    "X = diabetes.data\n",
    "y = diabetes.target\n",
    "# 2. Split data into train,  dev and test.\n",
    "X_train_val, X_test, y_train_val, y_test = train_test_split(X, y, random_state=666, test_size=0.2)\n",
    "X_train, X_val, y_train, y_val = train_test_split(X_train_val, y_train_val, random_state=667, test_size=0.25)"
   ]
  },
  {
   "cell_type": "code",
   "execution_count": 17,
   "metadata": {},
   "outputs": [
    {
     "data": {
      "text/plain": [
       "(264, 89, 89)"
      ]
     },
     "execution_count": 17,
     "metadata": {},
     "output_type": "execute_result"
    }
   ],
   "source": [
    "len(y_train), len(y_val), len(y_test)"
   ]
  },
  {
   "cell_type": "code",
   "execution_count": 18,
   "metadata": {},
   "outputs": [
    {
     "data": {
      "text/html": [
       "<div>\n",
       "<style scoped>\n",
       "    .dataframe tbody tr th:only-of-type {\n",
       "        vertical-align: middle;\n",
       "    }\n",
       "\n",
       "    .dataframe tbody tr th {\n",
       "        vertical-align: top;\n",
       "    }\n",
       "\n",
       "    .dataframe thead th {\n",
       "        text-align: right;\n",
       "    }\n",
       "</style>\n",
       "<table border=\"1\" class=\"dataframe\">\n",
       "  <thead>\n",
       "    <tr style=\"text-align: right;\">\n",
       "      <th></th>\n",
       "      <th>n_columns</th>\n",
       "      <th>columns</th>\n",
       "      <th>RMSE</th>\n",
       "    </tr>\n",
       "  </thead>\n",
       "  <tbody>\n",
       "    <tr>\n",
       "      <th>765</th>\n",
       "      <td>6</td>\n",
       "      <td>(1, 2, 3, 4, 5, 8)</td>\n",
       "      <td>56.184161</td>\n",
       "    </tr>\n",
       "    <tr>\n",
       "      <th>932</th>\n",
       "      <td>7</td>\n",
       "      <td>(1, 2, 3, 4, 5, 6, 8)</td>\n",
       "      <td>56.211273</td>\n",
       "    </tr>\n",
       "    <tr>\n",
       "      <th>849</th>\n",
       "      <td>7</td>\n",
       "      <td>(0, 1, 2, 3, 4, 5, 8)</td>\n",
       "      <td>56.262737</td>\n",
       "    </tr>\n",
       "    <tr>\n",
       "      <th>968</th>\n",
       "      <td>8</td>\n",
       "      <td>(0, 1, 2, 3, 4, 5, 6, 8)</td>\n",
       "      <td>56.297644</td>\n",
       "    </tr>\n",
       "    <tr>\n",
       "      <th>936</th>\n",
       "      <td>7</td>\n",
       "      <td>(1, 2, 3, 4, 5, 8, 9)</td>\n",
       "      <td>56.301163</td>\n",
       "    </tr>\n",
       "  </tbody>\n",
       "</table>\n",
       "</div>"
      ],
      "text/plain": [
       "    n_columns                   columns       RMSE\n",
       "765         6        (1, 2, 3, 4, 5, 8)  56.184161\n",
       "932         7     (1, 2, 3, 4, 5, 6, 8)  56.211273\n",
       "849         7     (0, 1, 2, 3, 4, 5, 8)  56.262737\n",
       "968         8  (0, 1, 2, 3, 4, 5, 6, 8)  56.297644\n",
       "936         7     (1, 2, 3, 4, 5, 8, 9)  56.301163"
      ]
     },
     "execution_count": 18,
     "metadata": {},
     "output_type": "execute_result"
    }
   ],
   "source": [
    "# 3. Build models, fit them to train dataset and evaluate on dev dataset.\n",
    "\n",
    "performance = get_performance_on_combinations_of_columns(X_train, X_val, y_val) \n",
    "performance.sort_values(\"RMSE\").head()"
   ]
  },
  {
   "cell_type": "code",
   "execution_count": 19,
   "metadata": {},
   "outputs": [
    {
     "data": {
      "text/plain": [
       "48.79549385587892"
      ]
     },
     "execution_count": 19,
     "metadata": {},
     "output_type": "execute_result"
    }
   ],
   "source": [
    "# 4. Choose the hyperparameters of the model that performs best on dev.\n",
    "best_columns = (1, 2, 3, 4, 5, 8)\n",
    "\n",
    "# 5. Build and fit the model with these hyperparameters to both train and dev datasets.\n",
    "c = LinearRegression()\n",
    "best_reg.fit(X_train[:, best_columns], y_train)\n",
    "y_test_hat = best_reg.predict(X_test[:, best_columns])\n",
    "np.sqrt(mean_squared_error(y_test, y_test_hat))"
   ]
  },
  {
   "cell_type": "markdown",
   "metadata": {},
   "source": [
    "## Exercises: Boston dataset\n",
    "\n",
    "In this exercise we will use Boston Dataset to answer the following question.\n",
    "\n",
    "__Question__ What is the best choice of columns for linear model of median value of owner-occupied homes?\n",
    "\n",
    "Here we the data set."
   ]
  },
  {
   "cell_type": "code",
   "execution_count": 20,
   "metadata": {},
   "outputs": [],
   "source": [
    "from sklearn.datasets import load_boston\n",
    "boston = load_boston()"
   ]
  }
 ],
 "metadata": {
  "kernelspec": {
   "display_name": "Python 3",
   "language": "python",
   "name": "python3"
  },
  "language_info": {
   "codemirror_mode": {
    "name": "ipython",
    "version": 3
   },
   "file_extension": ".py",
   "mimetype": "text/x-python",
   "name": "python",
   "nbconvert_exporter": "python",
   "pygments_lexer": "ipython3",
   "version": "3.6.4"
  }
 },
 "nbformat": 4,
 "nbformat_minor": 2
}
