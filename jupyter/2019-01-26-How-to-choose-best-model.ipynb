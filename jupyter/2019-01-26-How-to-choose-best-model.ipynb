{
 "cells": [
  {
   "cell_type": "raw",
   "metadata": {},
   "source": [
    "---\n",
    "layout: post\n",
    "comments: true\n",
    "title:  \"How to choose best model: multiple linear regression\"\n",
    "date:   2019-01-26 18:00:00 +0200\n",
    "categories: ml python sklearn\n",
    "---"
   ]
  },
  {
   "cell_type": "markdown",
   "metadata": {},
   "source": [
    "## Introduction\n",
    "\n",
    "In this note we would like to explain two concepts.\n",
    "* How to choose best models.\n",
    "* What __Multiple Linear Regression__ is. \n",
    "\n",
    "Here we will explain why spliting the dataset may not be enough and we introduce train-dev-test sliting.\n",
    "\n",
    "## Diabetes dataset"
   ]
  },
  {
   "cell_type": "code",
   "execution_count": 1,
   "metadata": {},
   "outputs": [],
   "source": [
    "import matplotlib\n",
    "import matplotlib.pyplot as plt\n",
    "import numpy as np\n",
    "import pandas as pd\n",
    "from sklearn import datasets"
   ]
  },
  {
   "cell_type": "code",
   "execution_count": 2,
   "metadata": {},
   "outputs": [],
   "source": [
    "matplotlib.rcParams['figure.figsize'] = [20, 10]"
   ]
  },
  {
   "cell_type": "code",
   "execution_count": 3,
   "metadata": {},
   "outputs": [],
   "source": [
    "diabetes = datasets.load_diabetes()"
   ]
  },
  {
   "cell_type": "markdown",
   "metadata": {},
   "source": [
    "## Problem\n",
    "\n",
    "__Main Question__ Which model is better?\n",
    "1. Model that predict disease progression based on body mass.\n",
    "2. Model that predict disease progression based on all 10 features.\n",
    "\n",
    "## Multiple Linear Regression\n",
    "\n",
    "In order to predict disease progression based on all 10 features we will build a model called Multiple Linear Regression. \n",
    "\n",
    "__Multiple Linear Regression__ is a model that have $n+1$ parameters $a_0$, $a_1$,... $a_n$ and $b$ and has the form:\n",
    "\n",
    "$$\\hat{y} = a_0x_0 + a_1x_1 + \\ldots + a_nx_n + b$$\n",
    "\n",
    "Recall that, in our case, we have the following 10 variables:\n",
    "    * $x_0$: age, \n",
    "    * $x_1$: sex, \n",
    "    * $x_2$: body mass index, \n",
    "    * $x_3$: average blood pressure, \n",
    "    * $x_4$, $x_5$, $x_6$, $x_7$, $x_8$, $x_9$: six blood serum measurements.\n",
    "    \n",
    "So we have 11 parameters $a_0$, $a_1$, $a_2$, $a_3$, $a_4$, $a_5$, $a_6$, $a_7$, $a_8$, $a_9$ and $b$. So the model has a form:\n",
    "\n",
    "$$\\hat{y} = a_0x_0 + a_1x_1 + a_2x_3 + a_3x_3 + a_6x_6 + a_8x_8 + a_9x_9 + b$$"
   ]
  },
  {
   "cell_type": "markdown",
   "metadata": {},
   "source": [
    "## Building and testing models\n",
    "\n",
    "So here we will execute the following steps:\n",
    "\n",
    "1. Prepare data.\n",
    "2. Split data into train and test.\n",
    "3. Build a models and further data preparation for each model.\n",
    "4. Fit models to train data on selected columns.\n",
    "5. Evaluate models on test data and compare performance."
   ]
  },
  {
   "cell_type": "markdown",
   "metadata": {},
   "source": [
    "#### 1. Prepare data\n",
    "\n",
    "Since the second model uses all columns our $X$ is simply entire dataset. When we will train model we will do further data selection."
   ]
  },
  {
   "cell_type": "code",
   "execution_count": 4,
   "metadata": {},
   "outputs": [],
   "source": [
    "X = diabetes.data\n",
    "y = diabetes.target"
   ]
  },
  {
   "cell_type": "markdown",
   "metadata": {},
   "source": [
    "#### 2. Split data into train and test."
   ]
  },
  {
   "cell_type": "code",
   "execution_count": 5,
   "metadata": {},
   "outputs": [],
   "source": [
    "from sklearn.model_selection import train_test_split\n",
    "X_train, X_test, y_train, y_test = train_test_split(X, y, random_state=666, test_size=0.1)"
   ]
  },
  {
   "cell_type": "markdown",
   "metadata": {},
   "source": [
    "#### 3. Build a models"
   ]
  },
  {
   "cell_type": "code",
   "execution_count": 6,
   "metadata": {},
   "outputs": [],
   "source": [
    "from sklearn.linear_model import LinearRegression\n",
    "reg1 = LinearRegression()\n",
    "reg2 = LinearRegression()"
   ]
  },
  {
   "cell_type": "markdown",
   "metadata": {},
   "source": [
    "#### 4. Fit models to train data on selected columns."
   ]
  },
  {
   "cell_type": "code",
   "execution_count": 7,
   "metadata": {},
   "outputs": [
    {
     "data": {
      "text/plain": [
       "LinearRegression(copy_X=True, fit_intercept=True, n_jobs=1, normalize=False)"
      ]
     },
     "execution_count": 7,
     "metadata": {},
     "output_type": "execute_result"
    }
   ],
   "source": [
    "reg1.fit(X_train[:, [2]], y_train) # here we choose only second column\n",
    "reg2.fit(X_train, y_train) # here we take all possible variables"
   ]
  },
  {
   "cell_type": "markdown",
   "metadata": {},
   "source": [
    "#### 5. Evaluate models on test data and compare performance."
   ]
  },
  {
   "cell_type": "code",
   "execution_count": 8,
   "metadata": {},
   "outputs": [
    {
     "data": {
      "text/plain": [
       "(55.85346157514181, 47.61322195051475)"
      ]
     },
     "execution_count": 8,
     "metadata": {},
     "output_type": "execute_result"
    }
   ],
   "source": [
    "from sklearn.metrics import mean_squared_error, r2_score\n",
    "y_test_hat1 = reg1.predict(X_test[:, [2]])\n",
    "y_test_hat2 = reg2.predict(X_test)\n",
    "np.sqrt(mean_squared_error(y_test, y_test_hat1)), np.sqrt(mean_squared_error(y_test, y_test_hat2))"
   ]
  },
  {
   "cell_type": "markdown",
   "metadata": {},
   "source": [
    "### Conclusion\n",
    "\n",
    "We have seen that the model based on all variables has better perfomance than the model based just on one variable. However, in what follows we will see that there is actually a better choice of variables. We will try to find them by considering all possible combinations of colums."
   ]
  },
  {
   "cell_type": "markdown",
   "metadata": {},
   "source": [
    "## All possible combinations of columns\n",
    "\n",
    "We will again execute the same steps, but this time we choose all combinations columns. This will give us lots of models to test.\n",
    "\n",
    "1. Prepare data.\n",
    "2. Split data into train and test.\n",
    "3. Build a models and further data preparation for each model.\n",
    "4. Fit models to train data on selected columns.\n",
    "5. Evaluate models on test data and compare performance."
   ]
  },
  {
   "cell_type": "code",
   "execution_count": 9,
   "metadata": {},
   "outputs": [],
   "source": [
    "from itertools import combinations\n",
    "\n",
    "# 1. Prepare data.\n",
    "X = diabetes.data\n",
    "y = diabetes.target\n",
    "\n",
    "# 2. Split data into train and test.\n",
    "X_train, X_test, y_train, y_test = train_test_split(X, y, random_state=666, test_size=0.2)\n",
    "\n",
    "# 3. Build a models and further data preparation for each model.\n",
    "# 4. Fit models to train data on selected columns.\n",
    "# 5. Evaluate models on test data and compare performance.\n",
    "\n",
    "def fit_and_evaluate(columns, X_train, X_test, y_test):\n",
    "    \"\"\"\n",
    "    Function that evaluate how model train on specific combination of columns performs\n",
    "    \n",
    "    columns: variable that that contains a list of columns that we use to train a particular model\n",
    "    X_train: Dataset that we use to train the model\n",
    "    X_test: Dataset that we use to test the model\n",
    "    y_test: true predictions for test dataset\n",
    "    \n",
    "    returns: root means square error evaluated on test dataset\n",
    "    \"\"\"\n",
    "    # Build the model\n",
    "    reg = LinearRegression()\n",
    "    \n",
    "    # Fit the model to dataset with specific columns\n",
    "    reg.fit(X_train[:, columns], y_train)\n",
    "    \n",
    "    # Evaluate models on test data.\n",
    "    y_test_hat = reg.predict(X_test[:, columns])\n",
    "    return np.sqrt(mean_squared_error(y_test, y_test_hat))\n",
    "\n",
    "def get_performance_on_combinations_of_columns(X_train, X_test, y_test):\n",
    "    \"\"\"\n",
    "    Function that generate all combination of columns\n",
    "    and then evaluate how model train on that combinations performs\n",
    "    \n",
    "    X_train: Dataset that we use to train the model\n",
    "    X_test: Dataset that we use to test the model\n",
    "    y_test: true predictions for test dataset\n",
    "    \n",
    "    returns: DataFrame with\n",
    "        - number of columns used\n",
    "        - specific combination of columns\n",
    "        - root means square error evaluated on test dataset\n",
    "    \"\"\"\n",
    "    all_columns_num = X_train.shape[1]\n",
    "    all_colnames = list(range(all_columns_num))\n",
    "    \n",
    "    performance = pd.DataFrame(\n",
    "        columns=[\"n_columns\", \"columns\", \"RMSE\"]\n",
    "    )\n",
    "\n",
    "    for columns_num in range(1, all_columns_num + 1):\n",
    "        for columns in combinations(all_colnames, columns_num):\n",
    "            rmse = fit_and_evaluate(columns, X_train, X_test, y_test)\n",
    "            new_row = pd.DataFrame({\n",
    "                \"n_columns\": [columns_num], \n",
    "                \"columns\": [columns], \n",
    "                \"RMSE\": [rmse]\n",
    "            })\n",
    "            performance = performance.append(new_row, ignore_index = True)  \n",
    "    return performance"
   ]
  },
  {
   "cell_type": "code",
   "execution_count": 10,
   "metadata": {},
   "outputs": [
    {
     "name": "stdout",
     "output_type": "stream",
     "text": [
      "Total number of non-empty combination is 1023.\n"
     ]
    }
   ],
   "source": [
    "performance = get_performance_on_combinations_of_columns(X_train, X_test, y_test) \n",
    "        \n",
    "print(\"Total number of non-empty combination is {}.\".format(len(performance)))"
   ]
  },
  {
   "cell_type": "code",
   "execution_count": 11,
   "metadata": {},
   "outputs": [
    {
     "data": {
      "text/plain": [
       "<matplotlib.collections.PathCollection at 0x1247aad68>"
      ]
     },
     "execution_count": 11,
     "metadata": {},
     "output_type": "execute_result"
    },
    {
     "data": {
      "image/png": "[encoded data removed]",
      "text/plain": [
       "<matplotlib.figure.Figure at 0x1206e8748>"
      ]
     },
     "metadata": {},
     "output_type": "display_data"
    }
   ],
   "source": [
    "plt.scatter(performance[\"n_columns\"], performance[\"RMSE\"], alpha = 0.3)"
   ]
  },
  {
   "cell_type": "code",
   "execution_count": 12,
   "metadata": {},
   "outputs": [
    {
     "data": {
      "text/html": [
       "<div>\n",
       "<style scoped>\n",
       "    .dataframe tbody tr th:only-of-type {\n",
       "        vertical-align: middle;\n",
       "    }\n",
       "\n",
       "    .dataframe tbody tr th {\n",
       "        vertical-align: top;\n",
       "    }\n",
       "\n",
       "    .dataframe thead th {\n",
       "        text-align: right;\n",
       "    }\n",
       "</style>\n",
       "<table border=\"1\" class=\"dataframe\">\n",
       "  <thead>\n",
       "    <tr style=\"text-align: right;\">\n",
       "      <th></th>\n",
       "      <th>n_columns</th>\n",
       "      <th>columns</th>\n",
       "      <th>RMSE</th>\n",
       "    </tr>\n",
       "  </thead>\n",
       "  <tbody>\n",
       "    <tr>\n",
       "      <th>781</th>\n",
       "      <td>6</td>\n",
       "      <td>(1, 2, 3, 6, 8, 9)</td>\n",
       "      <td>47.880858</td>\n",
       "    </tr>\n",
       "    <tr>\n",
       "      <th>865</th>\n",
       "      <td>7</td>\n",
       "      <td>(0, 1, 2, 3, 6, 8, 9)</td>\n",
       "      <td>47.889001</td>\n",
       "    </tr>\n",
       "    <tr>\n",
       "      <th>521</th>\n",
       "      <td>5</td>\n",
       "      <td>(1, 2, 3, 6, 8)</td>\n",
       "      <td>48.020136</td>\n",
       "    </tr>\n",
       "    <tr>\n",
       "      <th>647</th>\n",
       "      <td>6</td>\n",
       "      <td>(0, 1, 2, 3, 6, 8)</td>\n",
       "      <td>48.038394</td>\n",
       "    </tr>\n",
       "    <tr>\n",
       "      <th>981</th>\n",
       "      <td>8</td>\n",
       "      <td>(0, 1, 2, 3, 6, 7, 8, 9)</td>\n",
       "      <td>48.210301</td>\n",
       "    </tr>\n",
       "  </tbody>\n",
       "</table>\n",
       "</div>"
      ],
      "text/plain": [
       "    n_columns                   columns       RMSE\n",
       "781         6        (1, 2, 3, 6, 8, 9)  47.880858\n",
       "865         7     (0, 1, 2, 3, 6, 8, 9)  47.889001\n",
       "521         5           (1, 2, 3, 6, 8)  48.020136\n",
       "647         6        (0, 1, 2, 3, 6, 8)  48.038394\n",
       "981         8  (0, 1, 2, 3, 6, 7, 8, 9)  48.210301"
      ]
     },
     "execution_count": 12,
     "metadata": {},
     "output_type": "execute_result"
    }
   ],
   "source": [
    "# Best performing models\n",
    "\n",
    "performance.sort_values(\"RMSE\").head()"
   ]
  },
  {
   "cell_type": "markdown",
   "metadata": {},
   "source": [
    "So the best choice of columns are columns: `(1, 2, 3, 6, 8, 9)`. Let's see what they are."
   ]
  },
  {
   "cell_type": "code",
   "execution_count": 13,
   "metadata": {},
   "outputs": [
    {
     "data": {
      "text/plain": [
       "['sex', 'bmi', 'bp', 's3', 's5', 's6']"
      ]
     },
     "execution_count": 13,
     "metadata": {},
     "output_type": "execute_result"
    }
   ],
   "source": [
    "[diabetes.feature_names[i] for i in [1, 2, 3, 6, 8, 9]]"
   ]
  },
  {
   "cell_type": "code",
   "execution_count": 14,
   "metadata": {},
   "outputs": [
    {
     "data": {
      "text/plain": [
       "Text(0,0.5,'Errors')"
      ]
     },
     "execution_count": 14,
     "metadata": {},
     "output_type": "execute_result"
    },
    {
     "data": {
      "image/png": "[encoded data removed]",
      "text/plain": [
       "<matplotlib.figure.Figure at 0x124ec3ef0>"
      ]
     },
     "metadata": {},
     "output_type": "display_data"
    }
   ],
   "source": [
    "best_reg = LinearRegression()\n",
    "best_reg.fit(X_train[:, (1, 2, 3, 6, 8, 9)], y_train)\n",
    "y_test_hat = best_reg.predict(X_test[:, (1, 2, 3, 6, 8, 9)])\n",
    "plt.scatter(y_test, y_test-y_test_hat, alpha = 0.3)\n",
    "plt.xlabel(\"Real values\")\n",
    "plt.ylabel(\"Errors\")"
   ]
  },
  {
   "cell_type": "code",
   "execution_count": 15,
   "metadata": {},
   "outputs": [
    {
     "data": {
      "text/plain": [
       "array([-225.78647725,  533.21599131,  319.5160069 , -293.65810211,\n",
       "        491.19212091,   35.45789137])"
      ]
     },
     "execution_count": 15,
     "metadata": {},
     "output_type": "execute_result"
    }
   ],
   "source": [
    "best_reg.coef_"
   ]
  },
  {
   "cell_type": "markdown",
   "metadata": {},
   "source": [
    "## Hyperparameters and train-dev-test split\n",
    "\n",
    "Let us recall that by __parameters__ we understand coeficients of our model. In the case of our best model we have 7 parameters:\n",
    "\n",
    "$$\\hat{y} = a_1x_1 + a_2x_3 + a_3x_3 + a_6x_6 + a_8x_8 + a_9x_9 + b$$\n",
    "\n",
    "where $a_1, a_2, a_3, a_6, a_8, a_9$ are"
   ]
  },
  {
   "cell_type": "code",
   "execution_count": 16,
   "metadata": {},
   "outputs": [
    {
     "data": {
      "text/plain": [
       "array([-225.78647725,  533.21599131,  319.5160069 , -293.65810211,\n",
       "        491.19212091,   35.45789137])"
      ]
     },
     "execution_count": 16,
     "metadata": {},
     "output_type": "execute_result"
    }
   ],
   "source": [
    "best_reg.coef_"
   ]
  },
  {
   "cell_type": "markdown",
   "metadata": {},
   "source": [
    "and $b$ (called also bias) is"
   ]
  },
  {
   "cell_type": "code",
   "execution_count": 17,
   "metadata": {},
   "outputs": [
    {
     "data": {
      "text/plain": [
       "153.00353416418773"
      ]
     },
     "execution_count": 17,
     "metadata": {},
     "output_type": "execute_result"
    }
   ],
   "source": [
    "best_reg.intercept_"
   ]
  },
  {
   "cell_type": "markdown",
   "metadata": {},
   "source": [
    "However, as we have said before we have also another kind of parameters that are actully our choice of colums. Those are called __hyperparameters__. In order to find them we have also done some fitting. We have taken 1023 combinations and see which one has performed best on our test dataset. This is not very scientific, since we use this set to report final performance of our fitted model. Therefore we introduce further spliting of train set into validation set. \n",
    "\n",
    "\n",
    "1. Prepare data. \n",
    "2. Split data into train,  dev and test.\n",
    "3. Build models, fit them to train dataset and evaluate on dev dataset.\n",
    "4. Choose the hyperparameters of the model that performs best on dev.\n",
    "5. Build and fit the model with these hyperparameters to both train and dev datasets.\n",
    "5. Evaluate the best model performance of test."
   ]
  },
  {
   "cell_type": "code",
   "execution_count": 18,
   "metadata": {},
   "outputs": [],
   "source": [
    "# 1. Prepare data.\n",
    "X = diabetes.data\n",
    "y = diabetes.target\n",
    "# 2. Split data into train,  dev and test.\n",
    "X_train_val, X_test, y_train_val, y_test = train_test_split(X, y, random_state=666, test_size=0.2)\n",
    "X_train, X_val, y_train, y_val = train_test_split(X_train_val, y_train_val, random_state=667, test_size=0.25)"
   ]
  },
  {
   "cell_type": "code",
   "execution_count": 19,
   "metadata": {},
   "outputs": [
    {
     "data": {
      "text/plain": [
       "(264, 89, 89)"
      ]
     },
     "execution_count": 19,
     "metadata": {},
     "output_type": "execute_result"
    }
   ],
   "source": [
    "len(y_train), len(y_val), len(y_test)"
   ]
  },
  {
   "cell_type": "code",
   "execution_count": 20,
   "metadata": {},
   "outputs": [
    {
     "data": {
      "text/html": [
       "<div>\n",
       "<style scoped>\n",
       "    .dataframe tbody tr th:only-of-type {\n",
       "        vertical-align: middle;\n",
       "    }\n",
       "\n",
       "    .dataframe tbody tr th {\n",
       "        vertical-align: top;\n",
       "    }\n",
       "\n",
       "    .dataframe thead th {\n",
       "        text-align: right;\n",
       "    }\n",
       "</style>\n",
       "<table border=\"1\" class=\"dataframe\">\n",
       "  <thead>\n",
       "    <tr style=\"text-align: right;\">\n",
       "      <th></th>\n",
       "      <th>n_columns</th>\n",
       "      <th>columns</th>\n",
       "      <th>RMSE</th>\n",
       "    </tr>\n",
       "  </thead>\n",
       "  <tbody>\n",
       "    <tr>\n",
       "      <th>765</th>\n",
       "      <td>6</td>\n",
       "      <td>(1, 2, 3, 4, 5, 8)</td>\n",
       "      <td>56.184161</td>\n",
       "    </tr>\n",
       "    <tr>\n",
       "      <th>932</th>\n",
       "      <td>7</td>\n",
       "      <td>(1, 2, 3, 4, 5, 6, 8)</td>\n",
       "      <td>56.211273</td>\n",
       "    </tr>\n",
       "    <tr>\n",
       "      <th>849</th>\n",
       "      <td>7</td>\n",
       "      <td>(0, 1, 2, 3, 4, 5, 8)</td>\n",
       "      <td>56.262737</td>\n",
       "    </tr>\n",
       "    <tr>\n",
       "      <th>968</th>\n",
       "      <td>8</td>\n",
       "      <td>(0, 1, 2, 3, 4, 5, 6, 8)</td>\n",
       "      <td>56.297644</td>\n",
       "    </tr>\n",
       "    <tr>\n",
       "      <th>936</th>\n",
       "      <td>7</td>\n",
       "      <td>(1, 2, 3, 4, 5, 8, 9)</td>\n",
       "      <td>56.301163</td>\n",
       "    </tr>\n",
       "  </tbody>\n",
       "</table>\n",
       "</div>"
      ],
      "text/plain": [
       "    n_columns                   columns       RMSE\n",
       "765         6        (1, 2, 3, 4, 5, 8)  56.184161\n",
       "932         7     (1, 2, 3, 4, 5, 6, 8)  56.211273\n",
       "849         7     (0, 1, 2, 3, 4, 5, 8)  56.262737\n",
       "968         8  (0, 1, 2, 3, 4, 5, 6, 8)  56.297644\n",
       "936         7     (1, 2, 3, 4, 5, 8, 9)  56.301163"
      ]
     },
     "execution_count": 20,
     "metadata": {},
     "output_type": "execute_result"
    }
   ],
   "source": [
    "# 3. Build models, fit them to train dataset and evaluate on dev dataset.\n",
    "\n",
    "performance = get_performance_on_combinations_of_columns(X_train, X_val, y_val) \n",
    "performance.sort_values(\"RMSE\").head()"
   ]
  },
  {
   "cell_type": "code",
   "execution_count": 21,
   "metadata": {},
   "outputs": [
    {
     "data": {
      "text/plain": [
       "48.79549385587892"
      ]
     },
     "execution_count": 21,
     "metadata": {},
     "output_type": "execute_result"
    }
   ],
   "source": [
    "# 4. Choose the hyperparameters of the model that performs best on dev.\n",
    "best_columns = (1, 2, 3, 4, 5, 8)\n",
    "\n",
    "# 5. Build and fit the model with these hyperparameters to both train and dev datasets.\n",
    "c = LinearRegression()\n",
    "best_reg.fit(X_train[:, best_columns], y_train)\n",
    "y_test_hat = best_reg.predict(X_test[:, best_columns])\n",
    "np.sqrt(mean_squared_error(y_test, y_test_hat))"
   ]
  },
  {
   "cell_type": "markdown",
   "metadata": {},
   "source": [
    "## Exercises: Boston dataset\n",
    "\n",
    "In this exercise we will use Boston Dataset to answer the following question.\n",
    "\n",
    "__Question__ What is the best choice of columns for linear model of median value of owner-occupied homes?\n",
    "\n",
    "Here we have the data set."
   ]
  },
  {
   "cell_type": "code",
   "execution_count": 22,
   "metadata": {},
   "outputs": [],
   "source": [
    "from sklearn.datasets import load_boston\n",
    "boston = load_boston()"
   ]
  }
 ],
 "metadata": {
  "kernelspec": {
   "display_name": "Python 3",
   "language": "python",
   "name": "python3"
  },
  "language_info": {
   "codemirror_mode": {
    "name": "ipython",
    "version": 3
   },
   "file_extension": ".py",
   "mimetype": "text/x-python",
   "name": "python",
   "nbconvert_exporter": "python",
   "pygments_lexer": "ipython3",
   "version": "3.6.4"
  }
 },
 "nbformat": 4,
 "nbformat_minor": 2
}
