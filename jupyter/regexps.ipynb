{
 "cells": [
  {
   "cell_type": "code",
   "execution_count": 4,
   "metadata": {},
   "outputs": [
    {
     "name": "stdout",
     "output_type": "stream",
     "text": [
      "\n",
      "Ala ma kota.\n",
      "\n",
      "![png]\\(/assets/something/img.png\\)\n",
      "\n",
      "hej\n",
      "\n"
     ]
    }
   ],
   "source": [
    "import re\n",
    "text = \"\"\"\n",
    "Ala ma kota.\n",
    "\n",
    "![png](something/img.png)\n",
    "\n",
    "hej\n",
    "\"\"\"\n",
    "print(re.sub(r\"(\\!\\[[A-Za-z0-9]+\\])\\((.+)\\)\", r'\\1\\(/assets/\\2\\)', text))"
   ]
  },
  {
   "cell_type": "code",
   "execution_count": null,
   "metadata": {},
   "outputs": [],
   "source": []
  }
 ],
 "metadata": {
  "kernelspec": {
   "display_name": "Python 3",
   "language": "python",
   "name": "python3"
  },
  "language_info": {
   "codemirror_mode": {
    "name": "ipython",
    "version": 3
   },
   "file_extension": ".py",
   "mimetype": "text/x-python",
   "name": "python",
   "nbconvert_exporter": "python",
   "pygments_lexer": "ipython3",
   "version": "3.6.4"
  }
 },
 "nbformat": 4,
 "nbformat_minor": 2
}
