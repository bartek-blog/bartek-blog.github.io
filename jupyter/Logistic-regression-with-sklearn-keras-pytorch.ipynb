{
 "cells": [
  {
   "cell_type": "code",
   "execution_count": 1,
   "metadata": {},
   "outputs": [
    {
     "data": {
      "text/html": [
       "<div>\n",
       "<style scoped>\n",
       "    .dataframe tbody tr th:only-of-type {\n",
       "        vertical-align: middle;\n",
       "    }\n",
       "\n",
       "    .dataframe tbody tr th {\n",
       "        vertical-align: top;\n",
       "    }\n",
       "\n",
       "    .dataframe thead th {\n",
       "        text-align: right;\n",
       "    }\n",
       "</style>\n",
       "<table border=\"1\" class=\"dataframe\">\n",
       "  <thead>\n",
       "    <tr style=\"text-align: right;\">\n",
       "      <th></th>\n",
       "      <th>comment_text</th>\n",
       "    </tr>\n",
       "  </thead>\n",
       "  <tbody>\n",
       "    <tr>\n",
       "      <th>34852</th>\n",
       "      <td>This is a straw man argument, Mr Merkey.  Nobo...</td>\n",
       "    </tr>\n",
       "    <tr>\n",
       "      <th>17133</th>\n",
       "      <td>ARC Gritt, the fucking cunt of all cunts, ruin...</td>\n",
       "    </tr>\n",
       "    <tr>\n",
       "      <th>124232</th>\n",
       "      <td>a whole week; couldn't you have said something...</td>\n",
       "    </tr>\n",
       "    <tr>\n",
       "      <th>52766</th>\n",
       "      <td>NIGHTSTALLION  IS A CUNT</td>\n",
       "    </tr>\n",
       "    <tr>\n",
       "      <th>45760</th>\n",
       "      <td>Welcome!\\n\\nHello, , and welcome to Wikipedia!...</td>\n",
       "    </tr>\n",
       "  </tbody>\n",
       "</table>\n",
       "</div>"
      ],
      "text/plain": [
       "                                             comment_text\n",
       "34852   This is a straw man argument, Mr Merkey.  Nobo...\n",
       "17133   ARC Gritt, the fucking cunt of all cunts, ruin...\n",
       "124232  a whole week; couldn't you have said something...\n",
       "52766                            NIGHTSTALLION  IS A CUNT\n",
       "45760   Welcome!\\n\\nHello, , and welcome to Wikipedia!..."
      ]
     },
     "execution_count": 1,
     "metadata": {},
     "output_type": "execute_result"
    }
   ],
   "source": [
    "import numpy as np\n",
    "import pandas as pd\n",
    "\n",
    "comments_df = pd.read_csv(\"data/toxic-comment-classification-challenge/train.csv\")\n",
    "\n",
    "from sklearn.model_selection import train_test_split\n",
    "\n",
    "X_train, X_val, y_train, y_val = train_test_split(comments_df[['comment_text']], comments_df['toxic'], random_state=10)\n",
    "X_train.head()"
   ]
  },
  {
   "cell_type": "code",
   "execution_count": 2,
   "metadata": {},
   "outputs": [],
   "source": [
    "import re\n",
    "\n",
    "import nltk\n",
    "from nltk.stem import SnowballStemmer\n",
    "\n",
    "REPLACE_BY_SPACE_RE = re.compile('[/(){}\\[\\]\\|@,;]')\n",
    "GOOD_SYMBOLS = \"€\\?\"\n",
    "GOOD_SYMBOLS_RE = re.compile('([' + GOOD_SYMBOLS + '])')\n",
    "BAD_SYMBOLS_RE = re.compile('[^0-9a-z '+ GOOD_SYMBOLS + ']')\n",
    "ADD_SPACES_SYMBOLS_RE = re.compile(\"([\\?])\")\n",
    "STEMMER = SnowballStemmer('english')\n",
    "\n",
    "class TextPreprocessor:\n",
    "        \n",
    "    def transfrom_text(self, text):\n",
    "        text = re.sub(GOOD_SYMBOLS_RE, r\"\\1\", text) #process good symbols\n",
    "        text = text.lower()\n",
    "        text = re.sub(REPLACE_BY_SPACE_RE, \" \", text) # process bad symbols\n",
    "        text = re.sub(BAD_SYMBOLS_RE, \"\", text) # process bad symbols\n",
    "        text = re.sub(ADD_SPACES_SYMBOLS_RE, r\" \\1 \", text)\n",
    "        test = \" \".join([STEMMER.stem(word) for word in text.split()])\n",
    "        return text\n",
    "    \n",
    "    def transform(self, series):\n",
    "        return series.apply(lambda text: self.transfrom_text(text))\n",
    "    \n",
    "from sklearn.feature_extraction.text import TfidfVectorizer\n",
    "\n",
    "class Vectorizer:\n",
    "\n",
    "    def __init__(self):\n",
    "        self.vectorizer = TfidfVectorizer(min_df=4, max_df=0.9, ngram_range=(1, 2), token_pattern='(\\S+)')\n",
    "        \n",
    "    def fit(self, column):\n",
    "        self.vectorizer.fit(column)\n",
    "        \n",
    "    def transform(self, column):\n",
    "        return self.vectorizer.transform(column)\n",
    "    \n",
    "from sklearn.metrics import accuracy_score, precision_score, recall_score, f1_score,\\\n",
    "    average_precision_score, roc_auc_score, recall_score\n",
    "\n",
    "def scores(y, predicted):\n",
    "    return {\n",
    "        'accuracy': accuracy_score(y, predicted),\n",
    "        'precision': precision_score(y, predicted),\n",
    "        'recall': recall_score(y, predicted),\n",
    "        'f1-score': f1_score(y, predicted),\n",
    "        \"roc_auc\": roc_auc_score(y, predicted),\n",
    "        'average-precision': average_precision_score(y, predicted)}\n"
   ]
  },
  {
   "cell_type": "code",
   "execution_count": 3,
   "metadata": {},
   "outputs": [],
   "source": [
    "class TfidfPreprocessor:\n",
    "    \n",
    "    def __init__(self, colname=\"text\"):\n",
    "        self.colname = colname\n",
    "        self.preprocessor = TextPreprocessor()\n",
    "        self.vectorizer = Vectorizer()\n",
    "           \n",
    "    def fit(self, X):\n",
    "        print(\"preprocessor...\")\n",
    "        X_fe = pd.DataFrame({self.colname: self.preprocessor.transform(X[self.colname])})\n",
    "        print(\"vectorizer...\")\n",
    "        self.vectorizer.fit(X_fe[self.colname])\n",
    "        \n",
    "    def transform(self, X=None, message=None):\n",
    "        if message is not None:\n",
    "            X = pd.DataFrame({self.colname: [message]})\n",
    "        X_fe = pd.DataFrame({self.colname: self.preprocessor.transform(X[self.colname])})        \n",
    "        return self.vectorizer.transform(X_fe[self.colname])\n",
    "    \n",
    "    def fit_transform(self, X):\n",
    "        self.fit(X)\n",
    "        return self.vectorizer.transform(X[self.colname])"
   ]
  },
  {
   "cell_type": "code",
   "execution_count": 5,
   "metadata": {},
   "outputs": [
    {
     "name": "stdout",
     "output_type": "stream",
     "text": [
      "preprocessor...\n",
      "vectorizer...\n"
     ]
    }
   ],
   "source": [
    "N = 1000\n",
    "X_train = X_train.iloc[:N]\n",
    "y_train = y_train[:N]\n",
    "tfidf_preprocessor = TfidfPreprocessor(\"comment_text\")\n",
    "X_train_preproc = tfidf_preprocessor.fit_transform(X_train)\n",
    "X_val_preproc = tfidf_preprocessor.transform(X_val)"
   ]
  },
  {
   "cell_type": "markdown",
   "metadata": {},
   "source": [
    "## Sklearn model"
   ]
  },
  {
   "cell_type": "code",
   "execution_count": 20,
   "metadata": {},
   "outputs": [],
   "source": [
    "from sklearn.linear_model import LogisticRegression\n",
    "    \n",
    "class SklearnModel:\n",
    "    \n",
    "    def __init__(self):\n",
    "        self.model = LogisticRegression(class_weight='balanced')\n",
    "    \n",
    "    def fit(self, X, y):\n",
    "        self.model.fit(X, y)\n",
    "        \n",
    "    def predict(self, X):\n",
    "        return self.model.predict(X)  "
   ]
  },
  {
   "cell_type": "code",
   "execution_count": 27,
   "metadata": {},
   "outputs": [
    {
     "data": {
      "text/plain": [
       "{'accuracy': 0.953358177777035,\n",
       " 'average-precision': 0.6641958777165086,\n",
       " 'f1-score': 0.8007424858999072,\n",
       " 'precision': 0.6819066147859922,\n",
       " 'recall': 0.969738889849559,\n",
       " 'roc_auc': 0.96067231602142}"
      ]
     },
     "execution_count": 27,
     "metadata": {},
     "output_type": "execute_result"
    }
   ],
   "source": [
    "sklearn_model = SklearnModel()\n",
    "sklearn_model.fit(X_train_preproc, y_train)\n",
    "y_train_hat = sklearn_model.predict(X_train_preproc)\n",
    "scores(y_train, y_train_hat)"
   ]
  },
  {
   "cell_type": "code",
   "execution_count": 28,
   "metadata": {},
   "outputs": [
    {
     "data": {
      "text/plain": [
       "{'accuracy': 0.9331963001027749,\n",
       " 'average-precision': 0.5239641176536308,\n",
       " 'f1-score': 0.7035265324285237,\n",
       " 'precision': 0.6010264208325413,\n",
       " 'recall': 0.848175965665236,\n",
       " 'roc_auc': 0.8950682123362819}"
      ]
     },
     "execution_count": 28,
     "metadata": {},
     "output_type": "execute_result"
    }
   ],
   "source": [
    "y_val_hat = sklearn_model.predict(X_val_preproc)\n",
    "scores(y_val, y_val_hat)"
   ]
  },
  {
   "cell_type": "markdown",
   "metadata": {},
   "source": [
    "## Keras Model"
   ]
  },
  {
   "cell_type": "code",
   "execution_count": 6,
   "metadata": {},
   "outputs": [],
   "source": [
    "input_dim = len(tfidf_preprocessor.vectorizer.vectorizer.vocabulary_)"
   ]
  },
  {
   "cell_type": "code",
   "execution_count": 29,
   "metadata": {},
   "outputs": [],
   "source": [
    "from keras.models import Sequential\n",
    "from keras.layers import Dense, Activation\n",
    "\n",
    "class KerasModel:\n",
    "    \n",
    "    def __init__(self, input_dim=None):\n",
    "        self.input_dim = input_dim\n",
    "        self.model = None\n",
    "        \n",
    "    def create_model(self):\n",
    "        self.model = Sequential()\n",
    "        self.model.add(Dense(units=1, input_dim=self.input_dim, activation='sigmoid'))\n",
    "        self.model.compile(optimizer='adam', loss='binary_crossentropy', metrics=[\"accuracy\"])\n",
    "        return self\n",
    "        \n",
    "    def fit(self, X, y, **kwargs):\n",
    "        self.model.fit(X, y, epochs=10, batch_size=32, **kwargs)\n",
    "    \n",
    "    def predict(self, X):\n",
    "        return (self.model.predict(X)[:, 0] >= 0.5).astype(int)"
   ]
  },
  {
   "cell_type": "code",
   "execution_count": 30,
   "metadata": {},
   "outputs": [
    {
     "name": "stdout",
     "output_type": "stream",
     "text": [
      "Train on 119678 samples, validate on 39893 samples\n",
      "Epoch 1/10\n",
      "119678/119678 [==============================] - 183s 2ms/step - loss: 0.3026 - acc: 0.9051 - val_loss: 0.2306 - val_acc: 0.9130\n",
      "Epoch 2/10\n",
      "119678/119678 [==============================] - 186s 2ms/step - loss: 0.2104 - acc: 0.9187 - val_loss: 0.1919 - val_acc: 0.9291\n",
      "Epoch 3/10\n",
      "119678/119678 [==============================] - 179s 1ms/step - loss: 0.1763 - acc: 0.9320 - val_loss: 0.1709 - val_acc: 0.9369\n",
      "Epoch 4/10\n",
      "119678/119678 [==============================] - 399s 3ms/step - loss: 0.1549 - acc: 0.9410 - val_loss: 0.1582 - val_acc: 0.9413\n",
      "Epoch 5/10\n",
      "119678/119678 [==============================] - 180s 2ms/step - loss: 0.1398 - acc: 0.9463 - val_loss: 0.1497 - val_acc: 0.9452\n",
      "Epoch 6/10\n",
      "119678/119678 [==============================] - 180s 2ms/step - loss: 0.1283 - acc: 0.9506 - val_loss: 0.1442 - val_acc: 0.9470\n",
      "Epoch 7/10\n",
      "119678/119678 [==============================] - 180s 2ms/step - loss: 0.1189 - acc: 0.9542 - val_loss: 0.1399 - val_acc: 0.9488\n",
      "Epoch 8/10\n",
      "119678/119678 [==============================] - 1849s 15ms/step - loss: 0.1111 - acc: 0.9572 - val_loss: 0.1366 - val_acc: 0.9498\n",
      "Epoch 9/10\n",
      "119678/119678 [==============================] - 718s 6ms/step - loss: 0.1044 - acc: 0.9600 - val_loss: 0.1346 - val_acc: 0.9504\n",
      "Epoch 10/10\n",
      "119678/119678 [==============================] - 191s 2ms/step - loss: 0.0985 - acc: 0.9622 - val_loss: 0.1330 - val_acc: 0.9512\n"
     ]
    },
    {
     "data": {
      "text/plain": [
       "{'accuracy': 0.9646217349888868,\n",
       " 'average-precision': 0.6677545326382022,\n",
       " 'f1-score': 0.7876629889669008,\n",
       " 'precision': 0.9377836159541437,\n",
       " 'recall': 0.6789728514611794,\n",
       " 'roc_auc': 0.8370768874739668}"
      ]
     },
     "execution_count": 30,
     "metadata": {},
     "output_type": "execute_result"
    }
   ],
   "source": [
    "keras_model = KerasModel(input_dim).create_model()\n",
    "keras_model.fit(X_train_preproc, y_train, validation_data=(X_val_preproc, y_val))\n",
    "y_train_hat = keras_model.predict(X_train_preproc)\n",
    "scores(y_train, y_train_hat)"
   ]
  },
  {
   "cell_type": "code",
   "execution_count": 26,
   "metadata": {},
   "outputs": [
    {
     "data": {
      "text/plain": [
       "{'accuracy': 0.9511944451407515,\n",
       " 'average-precision': 0.5258250188839367,\n",
       " 'f1-score': 0.666209497685582,\n",
       " 'precision': 0.923040380047506,\n",
       " 'recall': 0.5211909871244635,\n",
       " 'roc_auc': 0.7583557590122525}"
      ]
     },
     "execution_count": 26,
     "metadata": {},
     "output_type": "execute_result"
    }
   ],
   "source": [
    "y_val_hat = keras_model.predict(X_val_preproc)\n",
    "scores(y_val, y_val_hat)"
   ]
  },
  {
   "cell_type": "markdown",
   "metadata": {},
   "source": [
    "## PyTorch"
   ]
  },
  {
   "cell_type": "code",
   "execution_count": 7,
   "metadata": {},
   "outputs": [],
   "source": [
    "import torch\n",
    "import torch.nn as nn\n",
    "import torch.nn.functional as F\n",
    "import torch.optim as optim\n",
    "\n",
    "X_train_preproc_torch = X_train_preproc.tocoo()\n",
    "y_train_torch = torch.tensor(y_train.values)"
   ]
  },
  {
   "cell_type": "code",
   "execution_count": 15,
   "metadata": {},
   "outputs": [],
   "source": [
    "class PytorchNet(nn.Module):  # inheriting from nn.Module!\n",
    "\n",
    "    def __init__(self, input_dim):\n",
    "        super().__init__()\n",
    "        self.fc = nn.Linear(input_dim, 1)\n",
    "        \n",
    "    def forward(self, X):\n",
    "        return F.sigmoid(self.fc(X))\n",
    "    \n"
   ]
  },
  {
   "cell_type": "code",
   "execution_count": 17,
   "metadata": {},
   "outputs": [
    {
     "name": "stdout",
     "output_type": "stream",
     "text": [
      "PytorchNet(\n",
      "  (fc): Linear(in_features=3497, out_features=1, bias=True)\n",
      ")\n"
     ]
    }
   ],
   "source": [
    "net = PytorchNet(input_dim)\n",
    "print(net)"
   ]
  },
  {
   "cell_type": "code",
   "execution_count": 12,
   "metadata": {},
   "outputs": [
    {
     "name": "stdout",
     "output_type": "stream",
     "text": [
      "epoch:  0  loss:  0.6875982880592346\n",
      "epoch:  1  loss:  0.6614923477172852\n",
      "epoch:  2  loss:  0.6365846395492554\n",
      "epoch:  3  loss:  0.6128840446472168\n",
      "epoch:  4  loss:  0.5903888940811157\n",
      "epoch:  5  loss:  0.5690901279449463\n",
      "epoch:  6  loss:  0.5489687919616699\n",
      "epoch:  7  loss:  0.5299959778785706\n",
      "epoch:  8  loss:  0.5121391415596008\n",
      "epoch:  9  loss:  0.49535948038101196\n",
      "epoch:  10  loss:  0.4796106815338135\n",
      "epoch:  11  loss:  0.46484601497650146\n",
      "epoch:  12  loss:  0.45101508498191833\n",
      "epoch:  13  loss:  0.4380668103694916\n",
      "epoch:  14  loss:  0.4259493350982666\n",
      "epoch:  15  loss:  0.4146103858947754\n",
      "epoch:  16  loss:  0.4039996862411499\n",
      "epoch:  17  loss:  0.3940677046775818\n",
      "epoch:  18  loss:  0.38476622104644775\n",
      "epoch:  19  loss:  0.376049280166626\n",
      "epoch:  20  loss:  0.3678734302520752\n",
      "epoch:  21  loss:  0.3601960837841034\n",
      "epoch:  22  loss:  0.3529788851737976\n",
      "epoch:  23  loss:  0.3461852967739105\n",
      "epoch:  24  loss:  0.339780330657959\n",
      "epoch:  25  loss:  0.33373236656188965\n",
      "epoch:  26  loss:  0.3280127942562103\n",
      "epoch:  27  loss:  0.32259392738342285\n",
      "epoch:  28  loss:  0.31745025515556335\n",
      "epoch:  29  loss:  0.31255924701690674\n",
      "epoch:  30  loss:  0.307899534702301\n",
      "epoch:  31  loss:  0.3034519553184509\n",
      "epoch:  32  loss:  0.29919910430908203\n",
      "epoch:  33  loss:  0.29512399435043335\n",
      "epoch:  34  loss:  0.29121288657188416\n",
      "epoch:  35  loss:  0.28745177388191223\n",
      "epoch:  36  loss:  0.2838292419910431\n",
      "epoch:  37  loss:  0.28033366799354553\n",
      "epoch:  38  loss:  0.27695509791374207\n",
      "epoch:  39  loss:  0.27368447184562683\n",
      "epoch:  40  loss:  0.2705133855342865\n",
      "epoch:  41  loss:  0.2674348056316376\n",
      "epoch:  42  loss:  0.2644421458244324\n",
      "epoch:  43  loss:  0.26152849197387695\n",
      "epoch:  44  loss:  0.25868886709213257\n",
      "epoch:  45  loss:  0.2559181749820709\n",
      "epoch:  46  loss:  0.253212034702301\n",
      "epoch:  47  loss:  0.2505660355091095\n",
      "epoch:  48  loss:  0.2479768842458725\n",
      "epoch:  49  loss:  0.24544085562229156\n"
     ]
    },
    {
     "name": "stderr",
     "output_type": "stream",
     "text": [
      "/Users/bartek.skorulski/Envs/py3.6/lib/python3.6/site-packages/torch/nn/functional.py:1474: UserWarning: Using a target size (torch.Size([1000])) that is different to the input size (torch.Size([1000, 1])) is deprecated. Please ensure they have the same size.\n",
      "  \"Please ensure they have the same size.\".format(target.size(), input.size()))\n"
     ]
    }
   ],
   "source": [
    "model = nn.Sequential(nn.Linear(input_dim, 1),\n",
    "                     nn.Sigmoid())\n",
    "\n",
    "criterion = nn.BCELoss()\n",
    "optimizer = optim.Adam(model.parameters(), lr=0.01)\n",
    "\n",
    "X = X_train_preproc\n",
    "X_dense = X.todense().astype(np.float32)\n",
    "y = y_train\n",
    "\n",
    "X_coo = X.tocoo()\n",
    "X_torch = torch.from_numpy(X_dense)\n",
    "        \n",
    "y_torch = torch.tensor(y.values.astype(np.float32))\n",
    "\n",
    "for epoch in range(50):\n",
    "    y_pred = model(X_torch)\n",
    "    loss = criterion(y_pred, y_torch)\n",
    "    print('epoch: ', epoch,' loss: ', loss.item())\n",
    "    optimizer.zero_grad()\n",
    "    loss.backward()\n",
    "    optimizer.step()"
   ]
  },
  {
   "cell_type": "code",
   "execution_count": 10,
   "metadata": {},
   "outputs": [
    {
     "data": {
      "text/plain": [
       "numpy.matrixlib.defmatrix.matrix"
      ]
     },
     "execution_count": 10,
     "metadata": {},
     "output_type": "execute_result"
    }
   ],
   "source": [
    "type(X_dense)"
   ]
  },
  {
   "cell_type": "code",
   "execution_count": 37,
   "metadata": {},
   "outputs": [
    {
     "data": {
      "text/plain": [
       "<generator object Module.parameters at 0x12a18e200>"
      ]
     },
     "execution_count": 37,
     "metadata": {},
     "output_type": "execute_result"
    }
   ],
   "source": [
    "for epoch in range(50):\n",
    "    # Forward Propagation\n",
    "    y_pred = model(x)\n",
    "    # Compute and print loss\n",
    "    loss = criterion(y_pred, y)\n",
    "    print('epoch: ', epoch,' loss: ', loss.item())\n",
    "    # Zero the gradients\n",
    "    optimizer.zero_grad()\n",
    "    \n",
    "    # perform a backward pass (backpropagation)\n",
    "    loss.backward()\n",
    "    \n",
    "    # Update the parameters\n",
    "    optimizer.step()"
   ]
  },
  {
   "cell_type": "code",
   "execution_count": 39,
   "metadata": {},
   "outputs": [
    {
     "data": {
      "text/plain": [
       "scipy.sparse.csr.csr_matrix"
      ]
     },
     "execution_count": 39,
     "metadata": {},
     "output_type": "execute_result"
    }
   ],
   "source": [
    "type(X_train_preproc)"
   ]
  },
  {
   "cell_type": "code",
   "execution_count": 40,
   "metadata": {},
   "outputs": [
    {
     "data": {
      "text/plain": [
       "<119678x225329 sparse matrix of type '<class 'numpy.float64'>'\n",
       "\twith 8403625 stored elements in COOrdinate format>"
      ]
     },
     "execution_count": 40,
     "metadata": {},
     "output_type": "execute_result"
    }
   ],
   "source": [
    "X_train_preproc.tocoo()"
   ]
  },
  {
   "cell_type": "code",
   "execution_count": 43,
   "metadata": {},
   "outputs": [
    {
     "data": {
      "text/plain": [
       "pandas.core.series.Series"
      ]
     },
     "execution_count": 43,
     "metadata": {},
     "output_type": "execute_result"
    }
   ],
   "source": [
    "type(y_train)"
   ]
  },
  {
   "cell_type": "code",
   "execution_count": null,
   "metadata": {},
   "outputs": [],
   "source": [
    "torch.tensor(y_train.va)"
   ]
  },
  {
   "cell_type": "code",
   "execution_count": 32,
   "metadata": {},
   "outputs": [
    {
     "data": {
      "text/plain": [
       "<119678x225329 sparse matrix of type '<class 'numpy.float64'>'\n",
       "\twith 8403625 stored elements in Compressed Sparse Row format>"
      ]
     },
     "execution_count": 32,
     "metadata": {},
     "output_type": "execute_result"
    }
   ],
   "source": [
    "X_train_preproc"
   ]
  },
  {
   "cell_type": "code",
   "execution_count": 33,
   "metadata": {},
   "outputs": [
    {
     "data": {
      "text/plain": [
       "225329"
      ]
     },
     "execution_count": 33,
     "metadata": {},
     "output_type": "execute_result"
    }
   ],
   "source": [
    "input_dim"
   ]
  },
  {
   "cell_type": "code",
   "execution_count": 35,
   "metadata": {},
   "outputs": [
    {
     "data": {
      "text/plain": [
       "matrix([[0., 0., 0., ..., 0., 0., 0.],\n",
       "        [0., 0., 0., ..., 0., 0., 0.],\n",
       "        [0., 0., 0., ..., 0., 0., 0.],\n",
       "        ...,\n",
       "        [0., 0., 0., ..., 0., 0., 0.],\n",
       "        [0., 0., 0., ..., 0., 0., 0.],\n",
       "        [0., 0., 0., ..., 0., 0., 0.]])"
      ]
     },
     "execution_count": 35,
     "metadata": {},
     "output_type": "execute_result"
    }
   ],
   "source": []
  },
  {
   "cell_type": "code",
   "execution_count": null,
   "metadata": {},
   "outputs": [],
   "source": []
  }
 ],
 "metadata": {
  "kernelspec": {
   "display_name": "Python 3",
   "language": "python",
   "name": "python3"
  },
  "language_info": {
   "codemirror_mode": {
    "name": "ipython",
    "version": 3
   },
   "file_extension": ".py",
   "mimetype": "text/x-python",
   "name": "python",
   "nbconvert_exporter": "python",
   "pygments_lexer": "ipython3",
   "version": "3.6.4"
  }
 },
 "nbformat": 4,
 "nbformat_minor": 2
}
