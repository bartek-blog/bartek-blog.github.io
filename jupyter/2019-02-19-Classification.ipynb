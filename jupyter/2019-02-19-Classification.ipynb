{
 "cells": [
  {
   "cell_type": "raw",
   "metadata": {},
   "source": [
    "---\n",
    "layout: post\n",
    "comments: true\n",
    "title:  \"Machine Learning Part 5: How we evaluate classification algorithms\"\n",
    "date:   2019-02-19 08:00:00 +0200\n",
    "categories: ml python sklearn classification\n",
    "---"
   ]
  },
  {
   "cell_type": "code",
   "execution_count": 1,
   "metadata": {},
   "outputs": [],
   "source": [
    "import matplotlib.pyplot as plt\n",
    "import matplotlib\n",
    "import numpy as np\n",
    "import pandas as pd\n",
    "from sklearn import datasets"
   ]
  },
  {
   "cell_type": "code",
   "execution_count": 2,
   "metadata": {},
   "outputs": [],
   "source": [
    "matplotlib.rcParams['figure.figsize'] = [20, 10]"
   ]
  },
  {
   "cell_type": "markdown",
   "metadata": {},
   "source": [
    "In this note we would like to explain two concepts\n",
    "* What classification is\n",
    "* What Logistic Regression is.\n",
    "* And finally, probably the most complicated here: How to evaluate classification.\n",
    "\n",
    "## Classification problem\n",
    "\n",
    "__Classification__ problem is a kind of supervised Machine Learning Algorithm whose target are set of discrete values (classes). \n",
    "\n",
    "There few kinds of classifications.\n",
    "\n",
    "* __Binary classification__: when an observation can belong to just one of two classes. Here often there is just one class and we try to determine if an observation belongs to it or not.\n",
    "* __Multiclass classification__:  when an observation can be belong to just one of many classes.\n",
    "* __Multilabel classification__: When an observation can belong to zero or many classes.\n",
    "\n",
    "__Example__\n",
    "\n",
    "We would like to predict if a patient is sick or not based on her/his blood test. This is classification problem. Moreover, since we have just two classes it is also called __binary classification__.\n",
    "\n",
    "__Example__\n",
    "\n",
    "We would like to say if a given photo contains a _hot dog_. This is also binary classification.\n",
    "\n",
    "__Example__\n",
    " \n",
    "We would like tell what is on a given photo. For example [ImageNet](http://www.image-net.org/) is a large dataset with images with that have object of thousands of different classes. This a an example of __multiclass classification__. If one image can have more than one object we deal with __multilabel classification__.\n",
    "\n",
    "## Logistic Regression\n",
    "\n",
    "Logistic Regression, although called regression, is a __binary classification__ algorithm. Why is it called regression? It is because, the output of this algorithm is a probability, so it is a continuous number between zero and one. Let's look at example. Imagine that we would like to predict if a image contains a hot dog. So here we have to classes: first class `hot dog` contains images with a hot dog and the other `not a hot dog`, images that do not contain a hot dog. So we can label by `1` the first class and by `0` the second. Then the output of the _logistic regression_ algorithm is a probability of having a hot dog on a image. That is, if the output is `0.9` we are likely to see hot dog. On the other hand if the output in `0.03` than we are very likely to have an image without a hot dog.\n",
    "\n",
    "So how we fit probabilities, that are numbers between zero and one into linear regression that produce output being unbounded real number? We use a function called __sigmoid__. This function is denoted by $\\sigma$ and is defined by the formula:\n",
    "\n",
    "$$\\sigma(t) = \\frac{1}{1+\\exp(-t)}.$$\n",
    "\n",
    "\n",
    "Let's plot it."
   ]
  },
  {
   "cell_type": "code",
   "execution_count": 3,
   "metadata": {},
   "outputs": [
    {
     "data": {
      "image/png": "[encoded data removed]",
      "text/plain": [
       "<Figure size 1440x720 with 1 Axes>"
      ]
     },
     "metadata": {},
     "output_type": "display_data"
    }
   ],
   "source": [
    "def sigmoid(t):\n",
    "    return 1/(1+np.exp(-t))\n",
    "\n",
    "t = np.linspace(-4, 4, 100)\n",
    "plt.plot(t, sigmoid(t))\n",
    "\n",
    "plt.show()"
   ]
  },
  {
   "cell_type": "markdown",
   "metadata": {},
   "source": [
    "__Logistic Regression__ is a method that tries to find $a$ and $b$ such that $\\hat{Y}$ given by the formula\n",
    "\n",
    "$$\\hat{Y} = \\sigma(a X + b) = \\frac{1}{1+\\exp(a X + b)}$$\n",
    "\n",
    "gives the best possible probabilities  that $X$ belongs of not to the class labeled by 1.\n",
    "\n",
    "Let's see how it works with an example. "
   ]
  },
  {
   "cell_type": "markdown",
   "metadata": {},
   "source": [
    "## Dataset\n",
    "\n",
    "Here we will study data extracted from images of a breast mass. We are going to predict if a tumor observed there is malignant or not. First we will try to address the following problem.\n",
    "\n",
    "__Question__ Can we build a model that based on the radius of a tumor can classify if the tumor is malignant or not?\n",
    "\n",
    "For that let's load our data."
   ]
  },
  {
   "cell_type": "code",
   "execution_count": 4,
   "metadata": {},
   "outputs": [
    {
     "data": {
      "text/plain": [
       "['malignant', 'benign']"
      ]
     },
     "execution_count": 4,
     "metadata": {},
     "output_type": "execute_result"
    }
   ],
   "source": [
    "from sklearn.datasets import load_breast_cancer\n",
    "data = load_breast_cancer()\n",
    "list(data.target_names)"
   ]
  },
  {
   "cell_type": "code",
   "execution_count": 5,
   "metadata": {},
   "outputs": [
    {
     "name": "stdout",
     "output_type": "stream",
     "text": [
      ".. _breast_cancer_dataset:\n",
      "\n",
      "Breast cancer wisconsin (diagnostic) dataset\n",
      "--------------------------------------------\n",
      "\n",
      "**Data Set Characteristics:**\n",
      "\n",
      "    :Number of Instances: 569\n",
      "\n",
      "    :Number of Attributes: 30 numeric, predictive attributes and the class\n",
      "\n",
      "    :Attribute Information:\n",
      "        - radius (mean of distances from center to points on the perimeter)\n",
      "        - texture (standard deviation of gray-scale values)\n",
      "        - perimeter\n",
      "        - area\n",
      "        - smoothness (local variation in radius lengths)\n",
      "        - compactness (perimeter^2 / area - 1.0)\n",
      "        - concavity (severity of concave portions of the contour)\n",
      "        - concave points (number of concave portions of the contour)\n",
      "        - symmetry \n",
      "        - fractal dimension (\"coastline approximation\" - 1)\n",
      "\n",
      "        The mean, standard error, and \"worst\" or largest (mean of the three\n",
      "        largest values) of these features were computed for each image,\n",
      "        resulting in 30 features.  For instance, field 3 is Mean Radius, field\n",
      "        13 is Radius SE, field 23 is Worst Radius.\n",
      "\n",
      "        - class:\n",
      "                - WDBC-Malignant\n",
      "                - WDBC-Benign\n",
      "\n",
      "    :Summary Statistics:\n",
      "\n",
      "    ===================================== ====== ======\n",
      "                                           Min    Max\n",
      "    ===================================== ====== ======\n",
      "    radius (mean):                        6.981  28.11\n",
      "    texture (mean):                       9.71   39.28\n",
      "    perimeter (mean):                     43.79  188.5\n",
      "    area (mean):                          143.5  2501.0\n",
      "    smoothness (mean):                    0.053  0.163\n",
      "    compactness (mean):                   0.019  0.345\n",
      "    concavity (mean):                     0.0    0.427\n",
      "    concave points (mean):                0.0    0.201\n",
      "    symmetry (mean):                      0.106  0.304\n",
      "    fractal dimension (mean):             0.05   0.097\n",
      "    radius (standard error):              0.112  2.873\n",
      "    texture (standard error):             0.36   4.885\n",
      "    perimeter (standard error):           0.757  21.98\n",
      "    area (standard error):                6.802  542.2\n",
      "    smoothness (standard error):          0.002  0.031\n",
      "    compactness (standard error):         0.002  0.135\n",
      "    concavity (standard error):           0.0    0.396\n",
      "    concave points (standard error):      0.0    0.053\n",
      "    symmetry (standard error):            0.008  0.079\n",
      "    fractal dimension (standard error):   0.001  0.03\n",
      "    radius (worst):                       7.93   36.04\n",
      "    texture (worst):                      12.02  49.54\n",
      "    perimeter (worst):                    50.41  251.2\n",
      "    area (worst):                         185.2  4254.0\n",
      "    smoothness (worst):                   0.071  0.223\n",
      "    compactness (worst):                  0.027  1.058\n",
      "    concavity (worst):                    0.0    1.252\n",
      "    concave points (worst):               0.0    0.291\n",
      "    symmetry (worst):                     0.156  0.664\n",
      "    fractal dimension (worst):            0.055  0.208\n",
      "    ===================================== ====== ======\n",
      "\n",
      "    :Missing Attribute Values: None\n",
      "\n",
      "    :Class Distribution: 212 - Malignant, 357 - Benign\n",
      "\n",
      "    :Creator:  Dr. William H. Wolberg, W. Nick Street, Olvi L. Mangasarian\n",
      "\n",
      "    :Donor: Nick Street\n",
      "\n",
      "    :Date: November, 1995\n",
      "\n",
      "This is a copy of UCI ML Breast Cancer Wisconsin (Diagnostic) datasets.\n",
      "https://goo.gl/U2Uwz2\n",
      "\n",
      "Features are computed from a digitized image of a fine needle\n",
      "aspirate (FNA) of a breast mass.  They describe\n",
      "characteristics of the cell nuclei present in the image.\n",
      "\n",
      "Separating plane described above was obtained using\n",
      "Multisurface Method-Tree (MSM-T) [K. P. Bennett, \"Decision Tree\n",
      "Construction Via Linear Programming.\" Proceedings of the 4th\n",
      "Midwest Artificial Intelligence and Cognitive Science Society,\n",
      "pp. 97-101, 1992], a classification method which uses linear\n",
      "programming to construct a decision tree.  Relevant features\n",
      "were selected using an exhaustive search in the space of 1-4\n",
      "features and 1-3 separating planes.\n",
      "\n",
      "The actual linear program used to obtain the separating plane\n",
      "in the 3-dimensional space is that described in:\n",
      "[K. P. Bennett and O. L. Mangasarian: \"Robust Linear\n",
      "Programming Discrimination of Two Linearly Inseparable Sets\",\n",
      "Optimization Methods and Software 1, 1992, 23-34].\n",
      "\n",
      "This database is also available through the UW CS ftp server:\n",
      "\n",
      "ftp ftp.cs.wisc.edu\n",
      "cd math-prog/cpo-dataset/machine-learn/WDBC/\n",
      "\n",
      ".. topic:: References\n",
      "\n",
      "   - W.N. Street, W.H. Wolberg and O.L. Mangasarian. Nuclear feature extraction \n",
      "     for breast tumor diagnosis. IS&T/SPIE 1993 International Symposium on \n",
      "     Electronic Imaging: Science and Technology, volume 1905, pages 861-870,\n",
      "     San Jose, CA, 1993.\n",
      "   - O.L. Mangasarian, W.N. Street and W.H. Wolberg. Breast cancer diagnosis and \n",
      "     prognosis via linear programming. Operations Research, 43(4), pages 570-577, \n",
      "     July-August 1995.\n",
      "   - W.H. Wolberg, W.N. Street, and O.L. Mangasarian. Machine learning techniques\n",
      "     to diagnose breast cancer from fine-needle aspirates. Cancer Letters 77 (1994) \n",
      "     163-171.\n"
     ]
    }
   ],
   "source": [
    "print(data.DESCR)"
   ]
  },
  {
   "cell_type": "markdown",
   "metadata": {},
   "source": [
    "So if target is 1 the tumor is __malignant__. Otherwise, if the target is 0, the tumor is __benign__."
   ]
  },
  {
   "cell_type": "code",
   "execution_count": 6,
   "metadata": {},
   "outputs": [
    {
     "data": {
      "image/png": "[encoded data removed]",
      "text/plain": [
       "<Figure size 1440x720 with 1 Axes>"
      ]
     },
     "metadata": {},
     "output_type": "display_data"
    }
   ],
   "source": [
    "y = data.target == 0 # if zero then we dedect malignant tumor.\n",
    "\n",
    "plt.scatter(data.data[:, [0]], y, alpha=0.3, c=y)\n",
    "plt.show()"
   ]
  },
  {
   "cell_type": "code",
   "execution_count": 7,
   "metadata": {},
   "outputs": [
    {
     "name": "stderr",
     "output_type": "stream",
     "text": [
      "/home/bartek/Envs/py3.6/lib/python3.6/site-packages/sklearn/linear_model/logistic.py:433: FutureWarning: Default solver will be changed to 'lbfgs' in 0.22. Specify a solver to silence this warning.\n",
      "  FutureWarning)\n"
     ]
    }
   ],
   "source": [
    "# 1. Prepare data\n",
    "X = data.data[:, [0]] # only one column, radius\n",
    "y = data.target == 0\n",
    "\n",
    "# 2. Split data into train and test.\n",
    "from sklearn.model_selection import train_test_split\n",
    "X_train, X_test, y_train, y_test = train_test_split(X, y, test_size=0.3, random_state=666)\n",
    "\n",
    "# 3. Build a model\n",
    "from sklearn.linear_model import LogisticRegression\n",
    "clf = LogisticRegression()\n",
    "\n",
    "# 4. Fit model to train data.\n",
    "clf.fit(X_train, y_train)\n",
    "\n",
    "# 5. Caluate prediction on test set\n",
    "y_test_hat = clf.predict(X_test)"
   ]
  },
  {
   "cell_type": "markdown",
   "metadata": {},
   "source": [
    "Before we get to evaluation we need to discuss how we are evaluate if classification models. Let us explain then few concepts:\n",
    "* accuracy,\n",
    "* confusion matrix,\n",
    "* precision and recall."
   ]
  },
  {
   "cell_type": "markdown",
   "metadata": {},
   "source": [
    "## Evaluation 1: Accuracy\n",
    "\n",
    "One way of evaluating a classification model is to calculate what percentage of classes we have predicted accurately. "
   ]
  },
  {
   "cell_type": "code",
   "execution_count": 8,
   "metadata": {},
   "outputs": [
    {
     "data": {
      "text/plain": [
       "0.9122807017543859"
      ]
     },
     "execution_count": 8,
     "metadata": {},
     "output_type": "execute_result"
    }
   ],
   "source": [
    "n_sample = len(y_test)\n",
    "correct_prediction = sum(y_test == y_test_hat)\n",
    "\n",
    "# Accuracy\n",
    "correct_prediction/n_sample"
   ]
  },
  {
   "cell_type": "markdown",
   "metadata": {},
   "source": [
    "90%! not bad. \n",
    "\n",
    "The package `sklearn` has also convenient function that calculate accuracy score."
   ]
  },
  {
   "cell_type": "code",
   "execution_count": 9,
   "metadata": {},
   "outputs": [
    {
     "data": {
      "text/plain": [
       "0.9122807017543859"
      ]
     },
     "execution_count": 9,
     "metadata": {},
     "output_type": "execute_result"
    }
   ],
   "source": [
    "from sklearn.metrics import accuracy_score\n",
    "accuracy_score(y_test, y_test_hat)"
   ]
  },
  {
   "cell_type": "markdown",
   "metadata": {},
   "source": [
    "We have said that the output of our model is not `1` or `0`, that is if the observation is respectively malignant or not malignant tumor. Our real output is a probability that the observation is malignant. So we have to choose with which probability it implies that the tumor is malignant. The package `sklearn` does it for us and choose 50%. Hence output `y_test_hat` is already `True` or `False`. \n",
    "\n",
    "However we can get also the probabilities. We can get them in `sklearn` using `predict_prob` method. It returns two columns, first is the probability of belonging to class `0` (benign cancer) and the second is the probability of belonging to class `1` (malignant cancer). They of course sum up to 1 and we only need the second column. "
   ]
  },
  {
   "cell_type": "code",
   "execution_count": 10,
   "metadata": {},
   "outputs": [
    {
     "data": {
      "text/plain": [
       "0.9122807017543859"
      ]
     },
     "execution_count": 10,
     "metadata": {},
     "output_type": "execute_result"
    }
   ],
   "source": [
    "y_test_proba = clf.predict_proba(X_test)[:, 1]\n",
    "y_test_prediction = y_test_proba >= 0.5\n",
    "correct_prediction = sum(y_test == y_test_prediction)\n",
    "\n",
    "# Accuracy\n",
    "correct_prediction/n_sample"
   ]
  },
  {
   "cell_type": "markdown",
   "metadata": {},
   "source": [
    "Later when we discuss _recall_ and _precision_, we will discuss when we choose 50% as a __threshold__ for the decision and when not. "
   ]
  },
  {
   "cell_type": "markdown",
   "metadata": {},
   "source": [
    "## Evaluation 2: Confusion matrix\n",
    "\n",
    "Imagine that in our dataset there is only 5% of observation with malignant tumor. Then one can get 95% accuracy just by labeling all observations as benign. Is it a good model? Not at all.\n",
    "\n",
    "One can address this problem using __confusion matrix__. Confusion matrix matrix shows us complete picture how many images were correctly and incorrectly classified. As columns we put what is actual class of the observation and on rows what we have predicted. The easiest way of understanding it is to look at our example."
   ]
  },
  {
   "cell_type": "code",
   "execution_count": 11,
   "metadata": {},
   "outputs": [
    {
     "data": {
      "text/html": [
       "<div>\n",
       "<style scoped>\n",
       "    .dataframe tbody tr th:only-of-type {\n",
       "        vertical-align: middle;\n",
       "    }\n",
       "\n",
       "    .dataframe tbody tr th {\n",
       "        vertical-align: top;\n",
       "    }\n",
       "\n",
       "    .dataframe thead th {\n",
       "        text-align: right;\n",
       "    }\n",
       "</style>\n",
       "<table border=\"1\" class=\"dataframe\">\n",
       "  <thead>\n",
       "    <tr style=\"text-align: right;\">\n",
       "      <th></th>\n",
       "      <th>Predicted 0</th>\n",
       "      <th>Predicted 1</th>\n",
       "    </tr>\n",
       "  </thead>\n",
       "  <tbody>\n",
       "    <tr>\n",
       "      <th>Actual 0</th>\n",
       "      <td>105</td>\n",
       "      <td>3</td>\n",
       "    </tr>\n",
       "    <tr>\n",
       "      <th>Actual 1</th>\n",
       "      <td>12</td>\n",
       "      <td>51</td>\n",
       "    </tr>\n",
       "  </tbody>\n",
       "</table>\n",
       "</div>"
      ],
      "text/plain": [
       "          Predicted 0  Predicted 1\n",
       "Actual 0          105            3\n",
       "Actual 1           12           51"
      ]
     },
     "execution_count": 11,
     "metadata": {},
     "output_type": "execute_result"
    }
   ],
   "source": [
    "true_positive = sum(y_test & y_test_prediction)\n",
    "false_positive = sum(~y_test & y_test_prediction)\n",
    "true_negative = sum(~y_test & ~y_test_prediction)\n",
    "false_negative = sum(y_test & ~y_test_prediction)\n",
    "\n",
    "pd.DataFrame({\n",
    "        \"Predicted 0\": [true_negative, false_negative], \n",
    "        \"Predicted 1\": [false_positive, true_positive]\n",
    "    },\n",
    "    index= [\"Actual 0\", \"Actual 1\"]\n",
    ")"
   ]
  },
  {
   "cell_type": "markdown",
   "metadata": {},
   "source": [
    "So we see that with respect to observations that were in class 0 (benign cancer) we have correctly classified 105 of them and 12 we have misclassified as malignant. And in the case on malignant observation we have 51 corrected predictions and 5 incorrect. "
   ]
  },
  {
   "cell_type": "markdown",
   "metadata": {},
   "source": [
    "Again, there is a convenient function in `sklearn` that can do it for us."
   ]
  },
  {
   "cell_type": "code",
   "execution_count": 12,
   "metadata": {},
   "outputs": [
    {
     "data": {
      "text/plain": [
       "array([[105,   3],\n",
       "       [ 12,  51]])"
      ]
     },
     "execution_count": 12,
     "metadata": {},
     "output_type": "execute_result"
    }
   ],
   "source": [
    "from sklearn.metrics import confusion_matrix\n",
    "cm = confusion_matrix(y_test, y_test_hat)\n",
    "cm"
   ]
  },
  {
   "cell_type": "markdown",
   "metadata": {},
   "source": [
    "One can get accuracy from confusion matrix by summing the number in the diagonal and then dividing it by the sum of all elements in the matrix. "
   ]
  },
  {
   "cell_type": "code",
   "execution_count": 13,
   "metadata": {},
   "outputs": [
    {
     "data": {
      "text/plain": [
       "0.9122807017543859"
      ]
     },
     "execution_count": 13,
     "metadata": {},
     "output_type": "execute_result"
    }
   ],
   "source": [
    "cm.diagonal().sum()/cm.sum()"
   ]
  },
  {
   "cell_type": "markdown",
   "metadata": {},
   "source": [
    "Finally, we will transform `cm` into `pandas.DataFrame` and nicely plot using function `heatmap` from package `seaborn`."
   ]
  },
  {
   "cell_type": "code",
   "execution_count": 14,
   "metadata": {},
   "outputs": [
    {
     "data": {
      "text/html": [
       "<div>\n",
       "<style scoped>\n",
       "    .dataframe tbody tr th:only-of-type {\n",
       "        vertical-align: middle;\n",
       "    }\n",
       "\n",
       "    .dataframe tbody tr th {\n",
       "        vertical-align: top;\n",
       "    }\n",
       "\n",
       "    .dataframe thead th {\n",
       "        text-align: right;\n",
       "    }\n",
       "</style>\n",
       "<table border=\"1\" class=\"dataframe\">\n",
       "  <thead>\n",
       "    <tr style=\"text-align: right;\">\n",
       "      <th>Predicted</th>\n",
       "      <th>0</th>\n",
       "      <th>1</th>\n",
       "    </tr>\n",
       "    <tr>\n",
       "      <th>Actual</th>\n",
       "      <th></th>\n",
       "      <th></th>\n",
       "    </tr>\n",
       "  </thead>\n",
       "  <tbody>\n",
       "    <tr>\n",
       "      <th>0</th>\n",
       "      <td>105</td>\n",
       "      <td>3</td>\n",
       "    </tr>\n",
       "    <tr>\n",
       "      <th>1</th>\n",
       "      <td>12</td>\n",
       "      <td>51</td>\n",
       "    </tr>\n",
       "  </tbody>\n",
       "</table>\n",
       "</div>"
      ],
      "text/plain": [
       "Predicted    0   1\n",
       "Actual            \n",
       "0          105   3\n",
       "1           12  51"
      ]
     },
     "execution_count": 14,
     "metadata": {},
     "output_type": "execute_result"
    }
   ],
   "source": [
    "import seaborn as sns\n",
    "\n",
    "\n",
    "def get_cm_df(cm):\n",
    "    labels = [0, 1]\n",
    "    cm_df = pd.DataFrame(cm, index=labels, columns=labels)\n",
    "    cm_df.index.name = 'Actual'\n",
    "    cm_df.columns.name = 'Predicted'\n",
    "    return cm_df\n",
    "\n",
    "cm_df = get_cm_df(cm)\n",
    "cm_df"
   ]
  },
  {
   "cell_type": "code",
   "execution_count": 15,
   "metadata": {},
   "outputs": [
    {
     "data": {
      "image/png": "[encoded data removed]",
      "text/plain": [
       "<Figure size 1440x720 with 2 Axes>"
      ]
     },
     "metadata": {},
     "output_type": "display_data"
    }
   ],
   "source": [
    "sns.heatmap(cm_df, annot=cm)\n",
    "plt.show()"
   ]
  },
  {
   "cell_type": "markdown",
   "metadata": {},
   "source": [
    "## Evaluation 3: Precision and recall"
   ]
  },
  {
   "cell_type": "markdown",
   "metadata": {},
   "source": [
    "Confusion matrix is four number that shows the complete picture how our model works. We can simplify it a bit by two concepts: __precision__ and __recall__. __Precision__ (also called __positive predictive value__ (PPV)) measures how well we did with predicted positive examples. So it is defined by\n",
    "\n",
    "$$\\mathrm{Precision} = \\frac{\\mathrm{True\\ positives}}{\\mathrm{True\\ positives} + \\mathrm{False\\ positives}}$$\n",
    "\n",
    "And __recall__ (also called __sensitivity__, __hit rate__, or __true positive rate__ (TPR)) measures how well we did with actual positives. That is\n",
    "\n",
    "$$\\mathrm{Recall} = \\frac{\\mathrm{True\\ positives}}{\\mathrm{True\\ positives} + \\mathrm{False\\ negatives}}$$\n",
    "\n",
    "So in our case we have the following."
   ]
  },
  {
   "cell_type": "code",
   "execution_count": 16,
   "metadata": {},
   "outputs": [
    {
     "data": {
      "text/plain": [
       "(0.9444444444444444, 0.8095238095238095)"
      ]
     },
     "execution_count": 16,
     "metadata": {},
     "output_type": "execute_result"
    }
   ],
   "source": [
    "precision = true_positive/(true_positive + false_positive)\n",
    "recall = true_positive/(true_positive + false_negative)\n",
    "precision, recall"
   ]
  },
  {
   "cell_type": "markdown",
   "metadata": {},
   "source": [
    "Again we have convenient functions for calculating it."
   ]
  },
  {
   "cell_type": "code",
   "execution_count": 17,
   "metadata": {},
   "outputs": [
    {
     "data": {
      "text/plain": [
       "(0.9444444444444444, 0.8095238095238095)"
      ]
     },
     "execution_count": 17,
     "metadata": {},
     "output_type": "execute_result"
    }
   ],
   "source": [
    "from sklearn.metrics import precision_score, recall_score\n",
    "\n",
    "precision_score(y_test, y_test_hat), recall_score(y_test, y_test_hat)"
   ]
  },
  {
   "cell_type": "markdown",
   "metadata": {},
   "source": [
    "### Precision-recall trade-off\n",
    "\n",
    "The best models have both precision and recall high. However, in general it is difficult to have both. But from a business perspective it sometimes important to focus on one of them. Moreover,  often we can increase one and sacrifice the other. We will see how we can do this with Logistic Regression model. But before let me illustrate the problem with two examples.\n",
    "\n",
    "__Example__\n",
    "\n",
    "Imagine that we work for on-line shop. We are building a model that detects if a customer is unhappy. When we detect it, we would like to send them a coupon for 20 Eur to be spend in out shop. Of course we do not want to sent it to many users only to that we are sure that they are unhappy. So here we need a model with high precision and we can sacrifice recall.\n",
    "\n",
    "__Example__\n",
    "\n",
    "Sometimes we rather prefer high recall. In the cancer detection, we would rather prefer to have benign tumor misclassified and then do some extra exams to confirm that, than malignant cancer misclassified and having a patient dead during next few years.\n",
    "\n",
    "In the case of Logistic Regression we can easily improve one of precision or recall by playing with threshold. Let me show it.\n",
    "\n",
    "First we set a decision threshold to 75% and see how precision and recall have changed."
   ]
  },
  {
   "cell_type": "code",
   "execution_count": 18,
   "metadata": {},
   "outputs": [
    {
     "data": {
      "text/plain": [
       "(0.9714285714285714, 0.5396825396825397)"
      ]
     },
     "execution_count": 18,
     "metadata": {},
     "output_type": "execute_result"
    }
   ],
   "source": [
    "def precision_recall(y_true, y_proba, threshold):\n",
    "    y_hat = y_proba >= threshold\n",
    "    precision = 1 if sum(y_hat) == 0 else precision_score(y_true, y_hat) # we set precision to 1 if \n",
    "                                                                         # there is no ones, this is a bit\n",
    "                                                                         # techincal so do not worry\n",
    "    return precision, recall_score(y_true, y_hat)\n",
    "\n",
    "precision_recall(y_test, y_test_proba, .75)"
   ]
  },
  {
   "cell_type": "markdown",
   "metadata": {},
   "source": [
    "As you can see now we have increased the precision to 97% and the recall has dropped 54%. Let's look also at confusion matrix."
   ]
  },
  {
   "cell_type": "code",
   "execution_count": 19,
   "metadata": {},
   "outputs": [
    {
     "data": {
      "text/html": [
       "<div>\n",
       "<style scoped>\n",
       "    .dataframe tbody tr th:only-of-type {\n",
       "        vertical-align: middle;\n",
       "    }\n",
       "\n",
       "    .dataframe tbody tr th {\n",
       "        vertical-align: top;\n",
       "    }\n",
       "\n",
       "    .dataframe thead th {\n",
       "        text-align: right;\n",
       "    }\n",
       "</style>\n",
       "<table border=\"1\" class=\"dataframe\">\n",
       "  <thead>\n",
       "    <tr style=\"text-align: right;\">\n",
       "      <th>Predicted</th>\n",
       "      <th>0</th>\n",
       "      <th>1</th>\n",
       "    </tr>\n",
       "    <tr>\n",
       "      <th>Actual</th>\n",
       "      <th></th>\n",
       "      <th></th>\n",
       "    </tr>\n",
       "  </thead>\n",
       "  <tbody>\n",
       "    <tr>\n",
       "      <th>0</th>\n",
       "      <td>107</td>\n",
       "      <td>1</td>\n",
       "    </tr>\n",
       "    <tr>\n",
       "      <th>1</th>\n",
       "      <td>29</td>\n",
       "      <td>34</td>\n",
       "    </tr>\n",
       "  </tbody>\n",
       "</table>\n",
       "</div>"
      ],
      "text/plain": [
       "Predicted    0   1\n",
       "Actual            \n",
       "0          107   1\n",
       "1           29  34"
      ]
     },
     "execution_count": 19,
     "metadata": {},
     "output_type": "execute_result"
    }
   ],
   "source": [
    "def cm_matrix_from_threshold(y_true, y_proba, threshold):\n",
    "    y_hat = y_proba >= threshold\n",
    "    return confusion_matrix(y_true, y_hat)\n",
    "\n",
    "\n",
    "get_cm_df(cm_matrix_from_threshold(y_test, y_test_proba, .75))"
   ]
  },
  {
   "cell_type": "markdown",
   "metadata": {},
   "source": [
    "So now we have only 35 observation predicted as malignant (before was 54), but only one is misclassified (before was 3). The cost of this is that we have more observation classified as saved (benign) and much more of them misclassified.\n",
    "\n",
    "Now we set a decision threshold to 25%."
   ]
  },
  {
   "cell_type": "code",
   "execution_count": 20,
   "metadata": {},
   "outputs": [
    {
     "data": {
      "text/plain": [
       "(0.5504587155963303, 0.9523809523809523)"
      ]
     },
     "execution_count": 20,
     "metadata": {},
     "output_type": "execute_result"
    }
   ],
   "source": [
    "precision_recall(y_test, y_test_proba, .25)"
   ]
  },
  {
   "cell_type": "markdown",
   "metadata": {},
   "source": [
    "We see that precision has dropped to 55% but now recall is high 95%.\n",
    "\n",
    "So let's look at confusion matrix in order to find out why."
   ]
  },
  {
   "cell_type": "code",
   "execution_count": 21,
   "metadata": {},
   "outputs": [
    {
     "data": {
      "text/html": [
       "<div>\n",
       "<style scoped>\n",
       "    .dataframe tbody tr th:only-of-type {\n",
       "        vertical-align: middle;\n",
       "    }\n",
       "\n",
       "    .dataframe tbody tr th {\n",
       "        vertical-align: top;\n",
       "    }\n",
       "\n",
       "    .dataframe thead th {\n",
       "        text-align: right;\n",
       "    }\n",
       "</style>\n",
       "<table border=\"1\" class=\"dataframe\">\n",
       "  <thead>\n",
       "    <tr style=\"text-align: right;\">\n",
       "      <th>Predicted</th>\n",
       "      <th>0</th>\n",
       "      <th>1</th>\n",
       "    </tr>\n",
       "    <tr>\n",
       "      <th>Actual</th>\n",
       "      <th></th>\n",
       "      <th></th>\n",
       "    </tr>\n",
       "  </thead>\n",
       "  <tbody>\n",
       "    <tr>\n",
       "      <th>0</th>\n",
       "      <td>59</td>\n",
       "      <td>49</td>\n",
       "    </tr>\n",
       "    <tr>\n",
       "      <th>1</th>\n",
       "      <td>3</td>\n",
       "      <td>60</td>\n",
       "    </tr>\n",
       "  </tbody>\n",
       "</table>\n",
       "</div>"
      ],
      "text/plain": [
       "Predicted   0   1\n",
       "Actual           \n",
       "0          59  49\n",
       "1           3  60"
      ]
     },
     "execution_count": 21,
     "metadata": {},
     "output_type": "execute_result"
    }
   ],
   "source": [
    "get_cm_df(cm_matrix_from_threshold(y_test, y_test_proba, .25))"
   ]
  },
  {
   "cell_type": "markdown",
   "metadata": {},
   "source": [
    "As we see, now among 63 malignant observations we have only 3 misclassified.\n",
    "\n",
    "Finally, by varying threshold for zero to one and register corresponding precisions and recalls we can plot __precision-recall curve__."
   ]
  },
  {
   "cell_type": "code",
   "execution_count": 22,
   "metadata": {},
   "outputs": [
    {
     "data": {
      "image/png": "[encoded data removed]",
      "text/plain": [
       "<Figure size 1440x720 with 1 Axes>"
      ]
     },
     "metadata": {},
     "output_type": "display_data"
    }
   ],
   "source": [
    "ts = np.linspace(0, 1, 100)\n",
    "precisions = []\n",
    "recalls = []\n",
    "for t in ts:\n",
    "    p,r = precision_recall(y_test, y_test_proba, t)\n",
    "    precisions.append(p)\n",
    "    recalls.append(r)\n",
    "    \n",
    "plt.step(recalls, precisions)\n",
    "plt.show()"
   ]
  },
  {
   "cell_type": "markdown",
   "metadata": {},
   "source": [
    "Package `sklearn` contains a function `precision_recall_curve` that calculate it for us. In order to use it, we need to provide `y_score` which are values of linear part of Logistic regression before applying _sigmoid_ function. They can be obtained using `decision_function` method."
   ]
  },
  {
   "cell_type": "code",
   "execution_count": 23,
   "metadata": {},
   "outputs": [
    {
     "data": {
      "image/png": "[encoded data removed]",
      "text/plain": [
       "<Figure size 1440x720 with 1 Axes>"
      ]
     },
     "metadata": {},
     "output_type": "display_data"
    }
   ],
   "source": [
    "from sklearn.metrics import precision_recall_curve\n",
    "\n",
    "y_test_score = clf.decision_function(X_test)\n",
    "precisions, recalls, _ = precision_recall_curve(y_test, y_test_score)\n",
    "plt.step(recalls, precisions)\n",
    "plt.show()"
   ]
  },
  {
   "cell_type": "markdown",
   "metadata": {},
   "source": [
    "### Evaluation 4: F-score\n",
    "\n",
    "As we said before, the best models have both precision and recall high. However, when it comes to compare models having two numbers can be difficult. \n",
    "\n",
    "__Example__\n",
    "Imagine situation when one model has precision, recall respectively equal to 0.7, 0.65, and to 0.66, 0.69. So which one is better?\n",
    "\n",
    "In this kind of situation it is useful to have just one simple criterion. And here it is common to use a metric called __F-score__.(or F1-score) This metric is defined by the following formula.\n",
    "\n",
    "$$\\mathrm{F-score} = \\frac{2}{\\frac{1}{\\textrm{Precision}} + \\frac{1}{\\textrm{Recall}}}.$$\n",
    "\n",
    "\n",
    "__Example-continuation__\n",
    "So in our example we can compare precisions and recalls using F-score. Let's do this."
   ]
  },
  {
   "cell_type": "code",
   "execution_count": 24,
   "metadata": {},
   "outputs": [
    {
     "data": {
      "text/plain": [
       "(0.674074074074074, 0.6746666666666666)"
      ]
     },
     "execution_count": 24,
     "metadata": {},
     "output_type": "execute_result"
    }
   ],
   "source": [
    "def f_score(precision, recall):\n",
    "    return 2/(1/precision + 1/recall)\n",
    "\n",
    "f_score(0.7, 0.65), f_score(0.66, 0.69)"
   ]
  },
  {
   "cell_type": "markdown",
   "metadata": {},
   "source": [
    "So the second one seems to be slightly better.\n",
    "\n",
    "Now let's come back to cancer example and calculate f-score for it."
   ]
  },
  {
   "cell_type": "code",
   "execution_count": 25,
   "metadata": {},
   "outputs": [
    {
     "data": {
      "text/plain": [
       "0.8717948717948718"
      ]
     },
     "execution_count": 25,
     "metadata": {},
     "output_type": "execute_result"
    }
   ],
   "source": [
    "f_score(precision_score(y_test, y_test_hat), recall_score(y_test, y_test_hat))"
   ]
  },
  {
   "cell_type": "markdown",
   "metadata": {},
   "source": [
    "Or using function form `sklearn`."
   ]
  },
  {
   "cell_type": "code",
   "execution_count": 26,
   "metadata": {},
   "outputs": [
    {
     "data": {
      "text/plain": [
       "0.8717948717948718"
      ]
     },
     "execution_count": 26,
     "metadata": {},
     "output_type": "execute_result"
    }
   ],
   "source": [
    "from sklearn.metrics import f1_score\n",
    "\n",
    "f1_score(y_test, y_test_hat)"
   ]
  },
  {
   "cell_type": "markdown",
   "metadata": {},
   "source": [
    "### Evaluation 5: AUC - Area under ROC curve\n",
    "\n",
    "Let us finish with another very important evaluation. The problem is F-score is that, when we change threshold the F-score can also change. So what is a solution? One is to use the area under precision-recall curve we have seen before. And it is sometimes used. However, much more popular is the area under ROC curve. This metric is called __AUC__. \n",
    "\n",
    "### ROC curve\n",
    "\n",
    "ROC curve is very similar to precision-recall curve, but instead of precision it uses __false positive rate__ (FPR) also called fall-out. FPR is defined by the following formula.\n",
    "\n",
    "$$\\mathrm{FPR} = \\frac{\\mathrm{False\\ positives}}{\\mathrm{False\\ positives} + \\mathrm{True\\ negatives} }$$"
   ]
  },
  {
   "cell_type": "code",
   "execution_count": 27,
   "metadata": {},
   "outputs": [
    {
     "data": {
      "image/png": "[encoded data removed]",
      "text/plain": [
       "<Figure size 1440x720 with 1 Axes>"
      ]
     },
     "metadata": {},
     "output_type": "display_data"
    }
   ],
   "source": [
    "def fpr(y_true, y_pred):\n",
    "    false_positive = sum(~y_true & y_pred)\n",
    "    true_negative = sum(~y_true & ~y_pred)\n",
    "    return false_positive/(false_positive + true_negative)\n",
    "\n",
    "def fpr_recall(y_true, y_proba, threshold):\n",
    "    y_hat = y_proba >= threshold\n",
    "    fpr_score = fpr(y_true, y_hat)\n",
    "    return fpr_score, recall_score(y_true, y_hat)\n",
    "\n",
    "ts = np.linspace(0, 1, 100)\n",
    "fprs = []\n",
    "recalls = []\n",
    "for t in ts:\n",
    "    f,r = fpr_recall(y_test, y_test_proba, t)\n",
    "    fprs.append(f)\n",
    "    recalls.append(r)\n",
    "    \n",
    "plt.step(fprs, recalls)\n",
    "plt.show()"
   ]
  },
  {
   "cell_type": "markdown",
   "metadata": {},
   "source": [
    "Again, package `sklearn` contains convenient function for calculating ROC curve."
   ]
  },
  {
   "cell_type": "code",
   "execution_count": 28,
   "metadata": {},
   "outputs": [
    {
     "data": {
      "image/png": "[encoded data removed]",
      "text/plain": [
       "<Figure size 1440x720 with 1 Axes>"
      ]
     },
     "metadata": {},
     "output_type": "display_data"
    }
   ],
   "source": [
    "from sklearn.metrics import roc_curve\n",
    "\n",
    "y_test_score = clf.decision_function(X_test)\n",
    "fprs, recalls, _ = roc_curve(y_test, y_test_score)\n",
    "\n",
    "plt.plot(fprs, recalls)\n",
    "plt.fill_between(fprs, recalls, alpha=0.2, color='orange')\n",
    "plt.show()"
   ]
  },
  {
   "cell_type": "markdown",
   "metadata": {},
   "source": [
    "Finally the area under the ROC curve is __AUC__. Let's use a function from `sklearn` to calculate it."
   ]
  },
  {
   "cell_type": "code",
   "execution_count": 29,
   "metadata": {},
   "outputs": [
    {
     "data": {
      "text/plain": [
       "0.9444444444444444"
      ]
     },
     "execution_count": 29,
     "metadata": {},
     "output_type": "execute_result"
    }
   ],
   "source": [
    "from sklearn.metrics import roc_auc_score\n",
    "\n",
    "roc_auc_score(y_test, y_test_score)"
   ]
  },
  {
   "cell_type": "markdown",
   "metadata": {},
   "source": [
    "__Extra__ There is also another curious way of calculating __AUC__. What we do we form all possible pairs of observation $(y_i, y_j)$ where $y_i$ is an negative observation (labeled with 0) and $y_j$ is a positive example (labeled with 1). Then we calculate if the scores (or probabilities) are in the right order, that is if the score of the observation i is lower than the score for the observation j. Then we calculate the fractions of corrected pairs to the all possible pair. \n",
    "\n",
    "The following code implement it. And as you see the value is very close to the value given by `roc_auc_score` method from `sklearn` package."
   ]
  },
  {
   "cell_type": "code",
   "execution_count": 30,
   "metadata": {},
   "outputs": [
    {
     "data": {
      "text/plain": [
       "0.9442974720752498"
      ]
     },
     "execution_count": 30,
     "metadata": {},
     "output_type": "execute_result"
    }
   ],
   "source": [
    "total_count = 0\n",
    "corrects = 0\n",
    "for i in range(len(y_test)):\n",
    "    if y_test[i] == 1:\n",
    "        for j in range(len(y_test)):\n",
    "            if y_test[j] == 0:\n",
    "                total_count += 1\n",
    "                if y_test_score[i] > y_test_score[j]:\n",
    "                    corrects += 1\n",
    "                \n",
    "corrects/total_count"
   ]
  },
  {
   "cell_type": "markdown",
   "metadata": {},
   "source": [
    "## Everything together"
   ]
  },
  {
   "cell_type": "code",
   "execution_count": 31,
   "metadata": {},
   "outputs": [
    {
     "name": "stdout",
     "output_type": "stream",
     "text": [
      "AUC : 0.9444444444444444\n",
      "F1-score : 0.8717948717948718\n",
      "Precision : 0.9444444444444444\n",
      "Recall : 0.8095238095238095\n",
      "Accuracy score : 0.9122807017543859\n"
     ]
    },
    {
     "name": "stderr",
     "output_type": "stream",
     "text": [
      "/home/bartek/Envs/py3.6/lib/python3.6/site-packages/sklearn/linear_model/logistic.py:433: FutureWarning: Default solver will be changed to 'lbfgs' in 0.22. Specify a solver to silence this warning.\n",
      "  FutureWarning)\n"
     ]
    }
   ],
   "source": [
    "# 1. Prepare data\n",
    "X = data.data[:, [0]]\n",
    "y = data.target == 0\n",
    "\n",
    "# 2. Split data into train and test.\n",
    "from sklearn.model_selection import train_test_split\n",
    "X_train, X_test, y_train, y_test = train_test_split(X, y, test_size=0.3, random_state=666)\n",
    "\n",
    "# 3. Build a model\n",
    "from sklearn.linear_model import LogisticRegression\n",
    "clf = LogisticRegression()\n",
    "\n",
    "# 4. Fit model to train data.\n",
    "clf.fit(X_train, y_train)\n",
    "\n",
    "# 5. Evaluate model on test data.\n",
    "y_test_hat = clf.predict(X_test)\n",
    "y_test_score = clf.decision_function(X_test)\n",
    "print(\"AUC :\", roc_auc_score(y_test, y_test_score))\n",
    "print(\"F1-score :\", f1_score(y_test, y_test_hat))\n",
    "print(\"Precision :\", precision_score(y_test, y_test_hat))\n",
    "print(\"Recall :\", recall_score(y_test, y_test_hat))\n",
    "print(\"Accuracy score :\", accuracy_score(y_test, y_test_hat))\n",
    "\n"
   ]
  },
  {
   "cell_type": "markdown",
   "metadata": {},
   "source": [
    "## Multiple Logistic Regression\n",
    "\n",
    "Now we can easily generalize Logistic Regression with one exploratory variable to many variables the same way we can generalize Linear Regression to Multiple Linear Regression. So __Multiple Logistic Regression__ is a model that have $n+1$ parameters $a_0$, $a_1$,... $a_n$ and $b$ and it is given by formula:\n",
    "\n",
    "$$\\hat{y} = \\sigma(a_0x_0 + a_1x_1 + \\ldots + a_nx_n + b) = \\frac{1}{1+\\exp(a_0x_0 + a_1x_1 + \\ldots + a_nx_n + b)}.$$\n",
    "\n",
    "Actually the code is very simple and almost the same as before. Let us solve the following problem?\n",
    "\n",
    "__Question__ Can we build a model that predict if tumor is malignant that depends on radius, texture and perimeter?"
   ]
  },
  {
   "cell_type": "code",
   "execution_count": 32,
   "metadata": {},
   "outputs": [
    {
     "name": "stdout",
     "output_type": "stream",
     "text": [
      "AUC : 0.9591416813639035\n",
      "F1-score : 0.8571428571428571\n",
      "Precision : 0.9107142857142857\n",
      "Recall : 0.8095238095238095\n",
      "Accuracy score : 0.9005847953216374\n"
     ]
    },
    {
     "name": "stderr",
     "output_type": "stream",
     "text": [
      "/home/bartek/Envs/py3.6/lib/python3.6/site-packages/sklearn/linear_model/logistic.py:433: FutureWarning: Default solver will be changed to 'lbfgs' in 0.22. Specify a solver to silence this warning.\n",
      "  FutureWarning)\n"
     ]
    }
   ],
   "source": [
    "# 1. Prepare data\n",
    "X = data.data[:, [0, 1, 2]]\n",
    "y = data.target == 0\n",
    "\n",
    "# 2. Split data into train and test.\n",
    "from sklearn.model_selection import train_test_split\n",
    "X_train, X_test, y_train, y_test = train_test_split(X, y, test_size=0.3, random_state=666)\n",
    "\n",
    "# 3. Build a model\n",
    "from sklearn.linear_model import LogisticRegression\n",
    "clf = LogisticRegression()\n",
    "\n",
    "# 4. Fit model to train data.\n",
    "clf.fit(X_train, y_train)\n",
    "\n",
    "# 5. Evaluate model on test data.\n",
    "y_test_hat = clf.predict(X_test)\n",
    "y_test_score = clf.decision_function(X_test)\n",
    "print(\"AUC :\", roc_auc_score(y_test, y_test_score))\n",
    "print(\"F1-score :\", f1_score(y_test, y_test_hat))\n",
    "print(\"Precision :\", precision_score(y_test, y_test_hat))\n",
    "print(\"Recall :\", recall_score(y_test, y_test_hat))\n",
    "print(\"Accuracy score :\", accuracy_score(y_test, y_test_hat))"
   ]
  },
  {
   "cell_type": "markdown",
   "metadata": {},
   "source": [
    "Observe that this model has slightly better AUC score, but its f-score is lower. It is not easy to decide what is better, however, once you make up your mind try to stick to it and do not change for one that is more convenient to you at the moment."
   ]
  },
  {
   "cell_type": "markdown",
   "metadata": {},
   "source": [
    "## Exercise\n",
    "\n",
    "Now it's your turn. There are much more variables over there.\n",
    "\n",
    "1. Could you find if there is another one that makes better fit? \n",
    "2. Or there is a combination of them that produce a better model?\n",
    "\n",
    "Use __train-dev-test split__ and __AUC score__ as a criterion for selecting the best model. Would you choose the same model if you have been using __f-score__?"
   ]
  },
  {
   "cell_type": "markdown",
   "metadata": {},
   "source": [
    "__To be continued__\n",
    "\n",
    "_Updated: 2019-02-19_"
   ]
  }
 ],
 "metadata": {
  "kernelspec": {
   "display_name": "Python 3",
   "language": "python",
   "name": "python3"
  },
  "language_info": {
   "codemirror_mode": {
    "name": "ipython",
    "version": 3
   },
   "file_extension": ".py",
   "mimetype": "text/x-python",
   "name": "python",
   "nbconvert_exporter": "python",
   "pygments_lexer": "ipython3",
   "version": "3.6.3"
  }
 },
 "nbformat": 4,
 "nbformat_minor": 2
}
