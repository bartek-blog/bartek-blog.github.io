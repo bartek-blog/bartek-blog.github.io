{
 "cells": [
  {
   "cell_type": "markdown",
   "metadata": {},
   "source": [
    "# Image classifier\n",
    "\n",
    "Create directory `data/dogs_vs_cats` and from <https://www.kaggle.com/c/dogs-vs-cats/data> download `train.zip` into `data/dogs_vs_cats`. \n",
    "\n",
    "Now we are going to uzip it and create two separate subdirectories `cats` nad `dogs` and put there correspondig images. For that you can run:\n",
    "\n",
    "```\n",
    "cd data/dogs_vs_cats\n",
    "unzip train.zip\n",
    "rm trian.zip\n",
    "cd train\n",
    "mkdir dogs\n",
    "find . -name 'dog.*' -exec mv {} dogs \\;\n",
    "mkdir cats\n",
    "find . -name 'cat.*' -exec mv {} cats \\;\n",
    "```\n",
    "\n",
    "Note that we are using `find` to move since using `mv` gives `argument list too long` error (it may take some time)."
   ]
  },
  {
   "cell_type": "code",
   "execution_count": 1,
   "metadata": {},
   "outputs": [
    {
     "name": "stderr",
     "output_type": "stream",
     "text": [
      "/Users/bartek.skorulski/Envs/py3.6/lib/python3.6/site-packages/h5py/__init__.py:34: FutureWarning: Conversion of the second argument of issubdtype from `float` to `np.floating` is deprecated. In future, it will be treated as `np.float64 == np.dtype(float).type`.\n",
      "  from ._conv import register_converters as _register_converters\n",
      "Using TensorFlow backend.\n"
     ]
    },
    {
     "name": "stdout",
     "output_type": "stream",
     "text": [
      "Found 20000 images belonging to 2 classes.\n",
      "Found 5000 images belonging to 2 classes.\n"
     ]
    }
   ],
   "source": [
    "from keras.preprocessing.image import ImageDataGenerator\n",
    "\n",
    "image_directory = 'data/dogs_vs_cats/train'\n",
    "target_width, target_height = 128, 128\n",
    "batch_size = 32\n",
    "\n",
    "train_datagen = ImageDataGenerator(\n",
    "        rescale=1./255,\n",
    "        shear_range=0.2,\n",
    "        zoom_range=0.2,\n",
    "        horizontal_flip=True,\n",
    "        validation_split=0.2)\n",
    "\n",
    "test_datagen = ImageDataGenerator(rescale=1./255)\n",
    "\n",
    "train_generator = train_datagen.flow_from_directory(\n",
    "        image_directory,\n",
    "        target_size=(target_width, target_height),\n",
    "        batch_size=batch_size,\n",
    "        class_mode='binary',\n",
    "        subset='training')\n",
    "\n",
    "validation_generator = train_datagen.flow_from_directory(\n",
    "        image_directory,\n",
    "        target_size=(target_width, target_height),\n",
    "        batch_size=batch_size,\n",
    "        class_mode='binary',\n",
    "        subset='validation')"
   ]
  },
  {
   "cell_type": "code",
   "execution_count": 8,
   "metadata": {},
   "outputs": [
    {
     "data": {
      "text/plain": [
       "625"
      ]
     },
     "execution_count": 8,
     "metadata": {},
     "output_type": "execute_result"
    }
   ],
   "source": [
    "len(train_generator)"
   ]
  },
  {
   "cell_type": "markdown",
   "metadata": {},
   "source": [
    "## CNN in Keras\n",
    "\n",
    "Convolution Layer: <https://keras.io/layers/convolutional/>\n",
    "Pooling: <https://keras.io/layers/pooling/>\n",
    "Flatten: <https://keras.io/layers/core/#flatten>"
   ]
  },
  {
   "cell_type": "code",
   "execution_count": 2,
   "metadata": {},
   "outputs": [],
   "source": [
    "from keras.models import Sequential\n",
    "from keras.layers import Convolution2D, MaxPooling2D, Flatten, Dense\n",
    "from keras.layers import Dropout\n",
    "\n",
    "clf = Sequential()\n",
    "clf.add(Convolution2D(32, (3, 3), input_shape=(128, 128, 3), padding=\"same\", activation=\"relu\")) # 128x128x32\n",
    "clf.add(MaxPooling2D(pool_size=(2, 2))) # 64x64x32\n",
    "clf.add(Convolution2D(32, (3, 3), padding=\"same\", activation=\"relu\")) # 64x64x32\n",
    "clf.add(MaxPooling2D(pool_size=(2, 2))) # 32x32x32\n",
    "clf.add(Convolution2D(64, (3, 3), padding=\"same\", activation=\"relu\")) # 32x32x64\n",
    "clf.add(MaxPooling2D(pool_size=(2, 2)))  # 16x16x64\n",
    "clf.add(Flatten()) # 16384\n",
    "clf.add(Dense(units=128, activation='relu')) #1 28\n",
    "clf.add(Dropout(0.5)) # 128\n",
    "clf.add(Dense(units=64, activation='relu')) # 64\n",
    "clf.add(Dropout(0.5)) # 64\n",
    "clf.add(Dense(units=1, activation='sigmoid')) # 1"
   ]
  },
  {
   "cell_type": "code",
   "execution_count": 3,
   "metadata": {},
   "outputs": [
    {
     "name": "stdout",
     "output_type": "stream",
     "text": [
      "layer  0 :\n",
      "conv2d_1\n",
      "Tensor(\"conv2d_1/Relu:0\", shape=(?, 128, 128, 32), dtype=float32)\n",
      "layer  1 :\n",
      "max_pooling2d_1\n",
      "Tensor(\"max_pooling2d_1/MaxPool:0\", shape=(?, 64, 64, 32), dtype=float32)\n",
      "layer  2 :\n",
      "conv2d_2\n",
      "Tensor(\"conv2d_2/Relu:0\", shape=(?, 64, 64, 32), dtype=float32)\n",
      "layer  3 :\n",
      "max_pooling2d_2\n",
      "Tensor(\"max_pooling2d_2/MaxPool:0\", shape=(?, 32, 32, 32), dtype=float32)\n",
      "layer  4 :\n",
      "conv2d_3\n",
      "Tensor(\"conv2d_3/Relu:0\", shape=(?, 32, 32, 64), dtype=float32)\n",
      "layer  5 :\n",
      "max_pooling2d_3\n",
      "Tensor(\"max_pooling2d_3/MaxPool:0\", shape=(?, 16, 16, 64), dtype=float32)\n",
      "layer  6 :\n",
      "flatten_1\n",
      "Tensor(\"flatten_1/Reshape:0\", shape=(?, ?), dtype=float32)\n",
      "layer  7 :\n",
      "dense_1\n",
      "Tensor(\"dense_1/Relu:0\", shape=(?, 128), dtype=float32)\n",
      "layer  8 :\n",
      "dropout_1\n",
      "Tensor(\"dropout_1/cond/Merge:0\", shape=(?, 128), dtype=float32)\n",
      "layer  9 :\n",
      "dense_2\n",
      "Tensor(\"dense_2/Relu:0\", shape=(?, 64), dtype=float32)\n",
      "layer  10 :\n",
      "dropout_2\n",
      "Tensor(\"dropout_2/cond/Merge:0\", shape=(?, 64), dtype=float32)\n",
      "layer  11 :\n",
      "dense_3\n",
      "Tensor(\"dense_3/Sigmoid:0\", shape=(?, 1), dtype=float32)\n"
     ]
    }
   ],
   "source": [
    "for i in range(len(clf.layers)):\n",
    "    print(\"layer \", i, \":\")\n",
    "    print(clf.layers[i].name)\n",
    "    print(clf.layers[i].output)"
   ]
  },
  {
   "cell_type": "code",
   "execution_count": 4,
   "metadata": {},
   "outputs": [],
   "source": [
    "clf.compile(optimizer='adam', loss='binary_crossentropy', metrics=[\"accuracy\"])"
   ]
  },
  {
   "cell_type": "code",
   "execution_count": 7,
   "metadata": {},
   "outputs": [
    {
     "name": "stdout",
     "output_type": "stream",
     "text": [
      "Epoch 1/20\n",
      "250/250 [==============================] - 125s 501ms/step - loss: 0.6609 - acc: 0.6129 - val_loss: 0.6243 - val_acc: 0.6619\n",
      "Epoch 2/20\n",
      "250/250 [==============================] - 445s 2s/step - loss: 0.6154 - acc: 0.6625 - val_loss: 0.5684 - val_acc: 0.7170\n",
      "Epoch 3/20\n",
      "250/250 [==============================] - 132s 526ms/step - loss: 0.5778 - acc: 0.7031 - val_loss: 0.5374 - val_acc: 0.7250\n",
      "Epoch 4/20\n",
      "250/250 [==============================] - 131s 524ms/step - loss: 0.5645 - acc: 0.7181 - val_loss: 0.5096 - val_acc: 0.7475\n",
      "Epoch 5/20\n",
      "250/250 [==============================] - 127s 506ms/step - loss: 0.5306 - acc: 0.7416 - val_loss: 0.5160 - val_acc: 0.7303\n",
      "Epoch 6/20\n",
      "250/250 [==============================] - 125s 498ms/step - loss: 0.5080 - acc: 0.7556 - val_loss: 0.4925 - val_acc: 0.7725\n",
      "Epoch 7/20\n",
      "250/250 [==============================] - 129s 515ms/step - loss: 0.4970 - acc: 0.7695 - val_loss: 0.4603 - val_acc: 0.7900\n",
      "Epoch 8/20\n",
      "250/250 [==============================] - 125s 500ms/step - loss: 0.4871 - acc: 0.7681 - val_loss: 0.4659 - val_acc: 0.7779\n",
      "Epoch 9/20\n",
      "250/250 [==============================] - 342s 1s/step - loss: 0.4728 - acc: 0.7712 - val_loss: 0.4219 - val_acc: 0.8075\n",
      "Epoch 10/20\n",
      "250/250 [==============================] - 127s 510ms/step - loss: 0.4572 - acc: 0.7900 - val_loss: 0.4698 - val_acc: 0.7781\n",
      "Epoch 11/20\n",
      "250/250 [==============================] - 125s 500ms/step - loss: 0.4437 - acc: 0.8004 - val_loss: 0.3972 - val_acc: 0.8200\n",
      "Epoch 12/20\n",
      "250/250 [==============================] - 128s 513ms/step - loss: 0.4379 - acc: 0.8004 - val_loss: 0.4091 - val_acc: 0.8179\n",
      "Epoch 13/20\n",
      "250/250 [==============================] - 123s 491ms/step - loss: 0.4260 - acc: 0.8144 - val_loss: 0.4058 - val_acc: 0.8225\n",
      "Epoch 14/20\n",
      "250/250 [==============================] - 125s 501ms/step - loss: 0.4198 - acc: 0.8099 - val_loss: 0.4029 - val_acc: 0.8156\n",
      "Epoch 15/20\n",
      "250/250 [==============================] - 688s 3s/step - loss: 0.4080 - acc: 0.8190 - val_loss: 0.4223 - val_acc: 0.8046\n",
      "Epoch 16/20\n",
      "250/250 [==============================] - 826s 3s/step - loss: 0.4184 - acc: 0.8141 - val_loss: 0.3985 - val_acc: 0.8113\n",
      "Epoch 17/20\n",
      "250/250 [==============================] - 131s 522ms/step - loss: 0.3978 - acc: 0.8262 - val_loss: 0.3727 - val_acc: 0.8344\n",
      "Epoch 18/20\n",
      "250/250 [==============================] - 130s 520ms/step - loss: 0.4031 - acc: 0.8209 - val_loss: 0.3832 - val_acc: 0.8338\n",
      "Epoch 19/20\n",
      "250/250 [==============================] - 131s 526ms/step - loss: 0.3945 - acc: 0.8274 - val_loss: 0.4123 - val_acc: 0.8156\n",
      "Epoch 20/20\n",
      "250/250 [==============================] - 129s 518ms/step - loss: 0.3872 - acc: 0.8345 - val_loss: 0.3598 - val_acc: 0.8481\n"
     ]
    },
    {
     "data": {
      "text/plain": [
       "<keras.callbacks.History at 0x104faaa90>"
      ]
     },
     "execution_count": 7,
     "metadata": {},
     "output_type": "execute_result"
    }
   ],
   "source": [
    "clf.fit_generator(\n",
    "        train_generator,\n",
    "        steps_per_epoch=250,\n",
    "        epochs=20,\n",
    "        validation_data=validation_generator,\n",
    "        validation_steps=50)"
   ]
  },
  {
   "cell_type": "code",
   "execution_count": null,
   "metadata": {},
   "outputs": [],
   "source": []
  }
 ],
 "metadata": {
  "kernelspec": {
   "display_name": "Python 3",
   "language": "python",
   "name": "python3"
  },
  "language_info": {
   "codemirror_mode": {
    "name": "ipython",
    "version": 3
   },
   "file_extension": ".py",
   "mimetype": "text/x-python",
   "name": "python",
   "nbconvert_exporter": "python",
   "pygments_lexer": "ipython3",
   "version": "3.6.4"
  }
 },
 "nbformat": 4,
 "nbformat_minor": 2
}
