{
 "cells": [
  {
   "cell_type": "code",
   "execution_count": 1,
   "metadata": {},
   "outputs": [
    {
     "data": {
      "text/html": [
       "<div>\n",
       "<style scoped>\n",
       "    .dataframe tbody tr th:only-of-type {\n",
       "        vertical-align: middle;\n",
       "    }\n",
       "\n",
       "    .dataframe tbody tr th {\n",
       "        vertical-align: top;\n",
       "    }\n",
       "\n",
       "    .dataframe thead th {\n",
       "        text-align: right;\n",
       "    }\n",
       "</style>\n",
       "<table border=\"1\" class=\"dataframe\">\n",
       "  <thead>\n",
       "    <tr style=\"text-align: right;\">\n",
       "      <th></th>\n",
       "      <th>comment_text</th>\n",
       "    </tr>\n",
       "  </thead>\n",
       "  <tbody>\n",
       "    <tr>\n",
       "      <th>34852</th>\n",
       "      <td>This is a straw man argument, Mr Merkey.  Nobo...</td>\n",
       "    </tr>\n",
       "    <tr>\n",
       "      <th>17133</th>\n",
       "      <td>ARC Gritt, the fucking cunt of all cunts, ruin...</td>\n",
       "    </tr>\n",
       "    <tr>\n",
       "      <th>124232</th>\n",
       "      <td>a whole week; couldn't you have said something...</td>\n",
       "    </tr>\n",
       "    <tr>\n",
       "      <th>52766</th>\n",
       "      <td>NIGHTSTALLION  IS A CUNT</td>\n",
       "    </tr>\n",
       "    <tr>\n",
       "      <th>45760</th>\n",
       "      <td>Welcome!\\n\\nHello, , and welcome to Wikipedia!...</td>\n",
       "    </tr>\n",
       "  </tbody>\n",
       "</table>\n",
       "</div>"
      ],
      "text/plain": [
       "                                             comment_text\n",
       "34852   This is a straw man argument, Mr Merkey.  Nobo...\n",
       "17133   ARC Gritt, the fucking cunt of all cunts, ruin...\n",
       "124232  a whole week; couldn't you have said something...\n",
       "52766                            NIGHTSTALLION  IS A CUNT\n",
       "45760   Welcome!\\n\\nHello, , and welcome to Wikipedia!..."
      ]
     },
     "execution_count": 1,
     "metadata": {},
     "output_type": "execute_result"
    }
   ],
   "source": [
    "import pandas as pd\n",
    "\n",
    "TARGET_COLS = ['toxic', 'severe_toxic', 'obscene', 'threat', 'insult', 'identity_hate']\n",
    "comments_df = pd.read_csv(\"data/toxic-comment-classification-challenge/train.csv\")\n",
    "\n",
    "from sklearn.model_selection import train_test_split\n",
    "\n",
    "X_train, X_val, y_train, y_val = train_test_split(\n",
    "    comments_df[['comment_text']], comments_df[TARGET_COLS], random_state=10)\n",
    "X_train.head()"
   ]
  },
  {
   "cell_type": "code",
   "execution_count": 3,
   "metadata": {},
   "outputs": [
    {
     "data": {
      "text/plain": [
       "Index(['id', 'comment_text', 'toxic', 'severe_toxic', 'obscene', 'threat',\n",
       "       'insult', 'identity_hate'],\n",
       "      dtype='object')"
      ]
     },
     "execution_count": 3,
     "metadata": {},
     "output_type": "execute_result"
    }
   ],
   "source": [
    "comments_df.columns"
   ]
  },
  {
   "cell_type": "code",
   "execution_count": 4,
   "metadata": {},
   "outputs": [],
   "source": [
    "import re\n",
    "\n",
    "import nltk\n",
    "from nltk.stem import SnowballStemmer\n",
    "\n",
    "REPLACE_BY_SPACE_RE = re.compile('[/(){}\\[\\]\\|@,;]')\n",
    "GOOD_SYMBOLS = \"€\\?\"\n",
    "GOOD_SYMBOLS_RE = re.compile('([' + GOOD_SYMBOLS + '])')\n",
    "BAD_SYMBOLS_RE = re.compile('[^0-9a-z '+ GOOD_SYMBOLS + ']')\n",
    "ADD_SPACES_SYMBOLS_RE = re.compile(\"([\\?])\")\n",
    "STEMMER = SnowballStemmer('english')\n",
    "\n",
    "class TextPreprocessor:\n",
    "        \n",
    "    def transfrom_text(self, text):\n",
    "        text = re.sub(GOOD_SYMBOLS_RE, r\"\\1\", text) #process good symbols\n",
    "        text = text.lower()\n",
    "        text = re.sub(REPLACE_BY_SPACE_RE, \" \", text) # process bad symbols\n",
    "        text = re.sub(BAD_SYMBOLS_RE, \"\", text) # process bad symbols\n",
    "        text = re.sub(ADD_SPACES_SYMBOLS_RE, r\" \\1 \", text)\n",
    "        test = \" \".join([STEMMER.stem(word) for word in text.split()])\n",
    "        return text\n",
    "    \n",
    "    def transform(self, series):\n",
    "        return series.apply(lambda text: self.transfrom_text(text))\n",
    "    \n",
    "from sklearn.feature_extraction.text import TfidfVectorizer\n",
    "\n",
    "class Vectorizer:\n",
    "\n",
    "    def __init__(self):\n",
    "        self.vectorizer = TfidfVectorizer(min_df=4, max_df=0.9, ngram_range=(1, 2), token_pattern='(\\S+)')\n",
    "        \n",
    "    def fit(self, column):\n",
    "        self.vectorizer.fit(column)\n",
    "        \n",
    "    def transform(self, column):\n",
    "        return self.vectorizer.transform(column)\n",
    "    \n",
    "class TfidfPreprocessor:\n",
    "    \n",
    "    def __init__(self, colname=\"text\"):\n",
    "        self.colname = colname\n",
    "        self.preprocessor = TextPreprocessor()\n",
    "        self.vectorizer = Vectorizer()\n",
    "           \n",
    "    def fit(self, X):\n",
    "        print(\"preprocessor...\")\n",
    "        X_fe = pd.DataFrame({self.colname: self.preprocessor.transform(X[self.colname])})\n",
    "        print(\"vectorizer...\")\n",
    "        self.vectorizer.fit(X_fe[self.colname])\n",
    "        \n",
    "    def transform(self, X=None, message=None):\n",
    "        if message is not None:\n",
    "            X = pd.DataFrame({self.colname: [message]})\n",
    "        X_fe = pd.DataFrame({self.colname: self.preprocessor.transform(X[self.colname])})        \n",
    "        return self.vectorizer.transform(X_fe[self.colname])\n",
    "    \n",
    "    def fit_transform(self, X):\n",
    "        self.fit(X)\n",
    "        return self.vectorizer.transform(X[self.colname])"
   ]
  },
  {
   "cell_type": "code",
   "execution_count": 8,
   "metadata": {},
   "outputs": [],
   "source": [
    "from sklearn.metrics import accuracy_score, f1_score, roc_auc_score, average_precision_score, recall_score\n",
    "\n",
    "def scores(y, predicted):\n",
    "    return {\n",
    "        'accuracy': accuracy_score(y, predicted),\n",
    "        'f1-score': f1_score(y, predicted, average='weighted'),\n",
    "        \"roc_auc\": roc_auc_score(y, predicted),\n",
    "        'average-precision': average_precision_score(y, predicted)}"
   ]
  },
  {
   "cell_type": "code",
   "execution_count": 9,
   "metadata": {},
   "outputs": [
    {
     "name": "stdout",
     "output_type": "stream",
     "text": [
      "preprocessor...\n",
      "vectorizer...\n"
     ]
    }
   ],
   "source": [
    "N = 1000\n",
    "X_train = X_train.iloc[:N]\n",
    "y_train = y_train[:N]\n",
    "tfidf_preprocessor = TfidfPreprocessor(\"comment_text\")\n",
    "X_train_preproc = tfidf_preprocessor.fit_transform(X_train)\n",
    "X_val_preproc = tfidf_preprocessor.transform(X_val)"
   ]
  },
  {
   "cell_type": "code",
   "execution_count": 5,
   "metadata": {},
   "outputs": [],
   "source": [
    "from sklearn.linear_model import LogisticRegression\n",
    "from sklearn.multiclass import OneVsRestClassifier\n",
    "\n",
    "class SklearnModel:\n",
    "    \n",
    "    def __init__(self):\n",
    "        clf = LogisticRegression(class_weight='balanced')\n",
    "        self.model = OneVsRestClassifier(clf)\n",
    "    \n",
    "    def fit(self, X, y):\n",
    "        self.model.fit(X, y)\n",
    "        \n",
    "    def predict(self, X):\n",
    "        return self.model.predict(X)"
   ]
  },
  {
   "cell_type": "code",
   "execution_count": 10,
   "metadata": {},
   "outputs": [
    {
     "data": {
      "text/plain": [
       "{'accuracy': 0.981,\n",
       " 'average-precision': 0.8416666666666667,\n",
       " 'f1-score': 0.9817152805862259,\n",
       " 'roc_auc': 0.989432703003337}"
      ]
     },
     "execution_count": 10,
     "metadata": {},
     "output_type": "execute_result"
    }
   ],
   "source": [
    "model = SklearnModel()\n",
    "model.fit(X_train_preproc, y_train)\n",
    "y_train_hat = model.predict(X_train_preproc)\n",
    "scores(y_train, y_train_hat)"
   ]
  },
  {
   "cell_type": "code",
   "execution_count": 11,
   "metadata": {},
   "outputs": [
    {
     "data": {
      "text/plain": [
       "{'accuracy': 0.9208382422981476,\n",
       " 'average-precision': 0.3568701470236531,\n",
       " 'f1-score': 0.9194257057461095,\n",
       " 'roc_auc': 0.7493119095597254}"
      ]
     },
     "execution_count": 11,
     "metadata": {},
     "output_type": "execute_result"
    }
   ],
   "source": [
    "y_val_hat = model.predict(X_val_preproc)\n",
    "scores(y_val, y_val_hat)"
   ]
  },
  {
   "cell_type": "code",
   "execution_count": null,
   "metadata": {},
   "outputs": [],
   "source": []
  }
 ],
 "metadata": {
  "kernelspec": {
   "display_name": "Python 3",
   "language": "python",
   "name": "python3"
  },
  "language_info": {
   "codemirror_mode": {
    "name": "ipython",
    "version": 3
   },
   "file_extension": ".py",
   "mimetype": "text/x-python",
   "name": "python",
   "nbconvert_exporter": "python",
   "pygments_lexer": "ipython3",
   "version": "3.6.4"
  }
 },
 "nbformat": 4,
 "nbformat_minor": 2
}
