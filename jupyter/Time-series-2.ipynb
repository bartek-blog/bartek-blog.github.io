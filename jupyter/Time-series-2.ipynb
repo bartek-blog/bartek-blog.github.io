{
 "cells": [
  {
   "cell_type": "code",
   "execution_count": 3,
   "metadata": {},
   "outputs": [],
   "source": [
    "import datetime\n",
    "import numpy as np\n",
    "import pandas as pd\n",
    "from sklearn.metrics import mean_squared_error\n",
    "from sklearn.ensemble import RandomForestRegressor\n",
    "\n",
    "import matplotlib.pyplot as plt\n",
    "import matplotlib"
   ]
  },
  {
   "cell_type": "code",
   "execution_count": 4,
   "metadata": {},
   "outputs": [],
   "source": [
    "matplotlib.rcParams['figure.figsize'] = [20, 10]"
   ]
  },
  {
   "cell_type": "code",
   "execution_count": 5,
   "metadata": {},
   "outputs": [],
   "source": [
    "sales = pd.read_csv(\"data/competitive-data-science-predict-future-sales/sales_train.csv.gz\")\n",
    "sales['date'] = sales['date'].apply(lambda x: datetime.datetime.strptime(x, '%d.%m.%Y'))"
   ]
  },
  {
   "cell_type": "code",
   "execution_count": 63,
   "metadata": {},
   "outputs": [],
   "source": [
    "total_daily_item_sales = sales.groupby(['date', 'item_id'], as_index=False)[['item_cnt_day']].sum()"
   ]
  },
  {
   "cell_type": "code",
   "execution_count": 120,
   "metadata": {},
   "outputs": [
    {
     "data": {
      "text/plain": [
       "(233912, 3)"
      ]
     },
     "execution_count": 120,
     "metadata": {},
     "output_type": "execute_result"
    }
   ],
   "source": [
    "total_monthly_item_sales = total_daily_shop_sales\\\n",
    "    .groupby((pd.Grouper(key='date', freq=\"M\"), pd.Grouper(key='item_id')))\\\n",
    "    [[\"item_cnt_day\"]].sum().reset_index().rename({\"item_cnt_day\": \"item_cnt_month\"}, axis=1)\n",
    "total_monthly_item_sales.shape"
   ]
  },
  {
   "cell_type": "code",
   "execution_count": 124,
   "metadata": {},
   "outputs": [
    {
     "data": {
      "text/plain": [
       "(741438, 2)"
      ]
     },
     "execution_count": 124,
     "metadata": {},
     "output_type": "execute_result"
    }
   ],
   "source": [
    "dates = total_monthly_item_sales['date'].unique()\n",
    "item_ids = total_monthly_item_sales['item_id'].unique()\n",
    "\n",
    "dates_item_ids = [[date, item_id] for date in dates for item_id in item_ids]\n",
    "complete_df = pd.DataFrame(dates_item_ids, columns=[\"date\", \"item_id\"])\n",
    "complete_df.shape"
   ]
  },
  {
   "cell_type": "code",
   "execution_count": 126,
   "metadata": {},
   "outputs": [],
   "source": [
    "complete_df = complete_df.merge(total_monthly_item_sales, how=\"left\").fillna(0)"
   ]
  },
  {
   "cell_type": "code",
   "execution_count": 129,
   "metadata": {},
   "outputs": [],
   "source": [
    "def add_lag(df, lag, col_name='item_cnt_month'):\n",
    "    df[col_name + \"-\" + str(lag)] = df.groupby(['item_id'])[col_name].shift(lag)\n",
    "    return df\n",
    "\n",
    "def add_lags(df, lags, col_name='item_cnt_month'):\n",
    "    for lag in lags:\n",
    "        df = add_lag(df, lag, col_name)\n",
    "    return df\n",
    "\n",
    "complete_df = add_lags(complete_df, range(1, 13))"
   ]
  },
  {
   "cell_type": "code",
   "execution_count": 133,
   "metadata": {},
   "outputs": [],
   "source": [
    "Xy = complete_df.query(\"date > '2013-12-31'\")\n",
    "\n",
    "def separate_X_y(Xy, sales_col='item_cnt_month'):\n",
    "    y = Xy[sales_col]\n",
    "    X = Xy.drop(sales_col, axis=1)\n",
    "    if 'date' in X.columns:\n",
    "        X = X.drop('date', axis=1)\n",
    "    return X, y\n",
    "        \n",
    "def train_dev_test_split(Xy):\n",
    "    X_test, y_test = separate_X_y(Xy.query(\"date == '2015-10-31'\"))\n",
    "    X_dev, y_dev = separate_X_y(Xy.query(\"date == '2015-09-30'\"))\n",
    "    X_train, y_train = separate_X_y(Xy.query(\"date <= '2015-08-31'\"))\n",
    "    return X_train, X_dev, X_test, y_train, y_dev, y_test\n",
    "\n",
    "X_train, X_dev, X_test, y_train, y_dev, y_test = train_dev_test_split(Xy)"
   ]
  },
  {
   "cell_type": "code",
   "execution_count": 141,
   "metadata": {},
   "outputs": [
    {
     "data": {
      "text/plain": [
       "28.36079762371046"
      ]
     },
     "execution_count": 141,
     "metadata": {},
     "output_type": "execute_result"
    }
   ],
   "source": [
    "from sklearn.linear_model import LinearRegression\n",
    "\n",
    "reg = LinearRegression()\n",
    "reg.fit(X_train.drop(\"item_id\", axis=1), y_train)\n",
    "y_dev_hat = reg.predict(X_dev.drop(\"item_id\", axis=1))\n",
    "np.sqrt(mean_squared_error(y_dev, y_dev_hat))"
   ]
  },
  {
   "cell_type": "code",
   "execution_count": 138,
   "metadata": {},
   "outputs": [
    {
     "data": {
      "text/plain": [
       "29.333380817161505"
      ]
     },
     "execution_count": 138,
     "metadata": {},
     "output_type": "execute_result"
    }
   ],
   "source": [
    "import warnings\n",
    "warnings.filterwarnings(\"ignore\", category=FutureWarning)\n",
    "\n",
    "\n",
    "reg_rf = RandomForestRegressor(random_state=667)\n",
    "reg_rf.fit(X_train.drop(\"item_id\", axis=1), y_train)\n",
    "y_dev_hat = reg_rf.predict(X_dev.drop(\"item_id\", axis=1))\n",
    "np.sqrt(mean_squared_error(y_dev, y_dev_hat))"
   ]
  },
  {
   "cell_type": "code",
   "execution_count": null,
   "metadata": {},
   "outputs": [],
   "source": []
  }
 ],
 "metadata": {
  "kernelspec": {
   "display_name": "Python 3",
   "language": "python",
   "name": "python3"
  }
 },
 "nbformat": 4,
 "nbformat_minor": 2
}
